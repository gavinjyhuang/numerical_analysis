{
 "cells": [
  {
   "cell_type": "markdown",
   "id": "c581bac7",
   "metadata": {},
   "source": [
    "## Question 2: "
   ]
  },
  {
   "cell_type": "code",
   "execution_count": 1,
   "id": "fc973360",
   "metadata": {},
   "outputs": [
    {
     "name": "stdout",
     "output_type": "stream",
     "text": [
      "Spline coefficients:\n",
      "[[ 4.38125    -4.38125   ]\n",
      " [ 0.          1.314375  ]\n",
      " [-2.7512863  -2.6198488 ]\n",
      " [-0.29004996 -0.56079734]]\n"
     ]
    }
   ],
   "source": [
    "import numpy as np\n",
    "from scipy.interpolate import CubicSpline\n",
    "\n",
    "# Given data\n",
    "x = np.array([0.1, 0.2, 0.3])\n",
    "y = np.array([-0.29004996, -0.56079734, -0.81401972])\n",
    "\n",
    "# Construct natural cubic spline\n",
    "spline = CubicSpline(x, y, bc_type='natural')\n",
    "\n",
    "# Example: evaluate spline at 100 points for plotting or analysis\n",
    "x_dense = np.linspace(0.1, 0.3, 100)\n",
    "y_dense = spline(x_dense)\n",
    "print(\"Spline coefficients:\")\n",
    "print(spline.c)"
   ]
  },
  {
   "cell_type": "markdown",
   "id": "cb8eee67",
   "metadata": {},
   "source": [
    "## Question 3:"
   ]
  },
  {
   "cell_type": "code",
   "execution_count": null,
   "id": "f862ef20",
   "metadata": {},
   "outputs": [
    {
     "name": "stdout",
     "output_type": "stream",
     "text": [
      "Least squares approximation for k: 0.899563\n"
     ]
    }
   ],
   "source": [
    "import numpy as np\n",
    "\n",
    "# Given data\n",
    "F = np.array([2, 4, 6])\n",
    "l = np.array([7.0, 9.4, 12.3])\n",
    "E = 5.3\n",
    "\n",
    "# Model: F = k * (l - E)\n",
    "A = (l - E).reshape(-1, 1)\n",
    "k_ls, _, _, _ = np.linalg.lstsq(A, F, rcond=None)\n",
    "print(f\"Least squares approximation for k: {k_ls[0]:.6f}\")\n",
    "\n"
   ]
  },
  {
   "cell_type": "code",
   "execution_count": 3,
   "id": "f4d62f27",
   "metadata": {},
   "outputs": [
    {
     "name": "stdout",
     "output_type": "stream",
     "text": [
      "Least squares approximation for k (all data): 0.905235\n",
      "Residual for k from (a): 0.9062\n",
      "Residual for k from (b): 0.8970\n",
      "Residual for k from all data: 0.8962\n"
     ]
    },
    {
     "name": "stderr",
     "output_type": "stream",
     "text": [
      "/var/folders/0b/g6z0k75d4pg60vnbn9xg7dmr0000gn/T/ipykernel_10581/630358991.py:17: DeprecationWarning: Conversion of an array with ndim > 0 to a scalar is deprecated, and will error in future. Ensure you extract a single element from your array before performing this operation. (Deprecated NumPy 1.25.)\n",
      "  k_a = float(np.linalg.lstsq((np.array([7.0, 9.4, 12.3]) - E).reshape(-1,1), np.array([2,4,6]), rcond=None)[0])\n",
      "/var/folders/0b/g6z0k75d4pg60vnbn9xg7dmr0000gn/T/ipykernel_10581/630358991.py:18: DeprecationWarning: Conversion of an array with ndim > 0 to a scalar is deprecated, and will error in future. Ensure you extract a single element from your array before performing this operation. (Deprecated NumPy 1.25.)\n",
      "  k_b = float(np.linalg.lstsq((np.array([8.3, 11.3, 14.4, 15.9]) - E).reshape(-1,1), np.array([3,5,8,10]), rcond=None)[0])\n"
     ]
    }
   ],
   "source": [
    "import numpy as np\n",
    "\n",
    "# All data points\n",
    "F_all = np.array([2, 4, 6, 3, 5, 8, 10])\n",
    "l_all = np.array([7.0, 9.4, 12.3, 8.3, 11.3, 14.4, 15.9])\n",
    "E = 5.3\n",
    "\n",
    "# Least squares fit for all data\n",
    "A_all = (l_all - E).reshape(-1, 1)\n",
    "k_all, _, _, _ = np.linalg.lstsq(A_all, F_all, rcond=None)\n",
    "print(f\"Least squares approximation for k (all data): {k_all[0]:.6f}\")\n",
    "\n",
    "# Compare residuals for (a) and (b)\n",
    "def residuals(F, l, k, E):\n",
    "    return np.sum((F - k * (l - E))**2)\n",
    "\n",
    "k_a = float(np.linalg.lstsq((np.array([7.0, 9.4, 12.3]) - E).reshape(-1,1), np.array([2,4,6]), rcond=None)[0])\n",
    "k_b = float(np.linalg.lstsq((np.array([8.3, 11.3, 14.4, 15.9]) - E).reshape(-1,1), np.array([3,5,8,10]), rcond=None)[0])\n",
    "\n",
    "res_a = residuals(F_all, l_all, k_a, E)\n",
    "res_b = residuals(F_all, l_all, k_b, E)\n",
    "res_all = residuals(F_all, l_all, k_all[0], E)\n",
    "print(f\"Residual for k from (a): {res_a:.4f}\")\n",
    "print(f\"Residual for k from (b): {res_b:.4f}\")\n",
    "print(f\"Residual for k from all data: {res_all:.4f}\")"
   ]
  },
  {
   "cell_type": "markdown",
   "id": "51275e19",
   "metadata": {},
   "source": [
    "## Question 4: "
   ]
  },
  {
   "cell_type": "code",
   "execution_count": 4,
   "id": "312899ce",
   "metadata": {},
   "outputs": [
    {
     "name": "stdout",
     "output_type": "stream",
     "text": [
      "Least squares line: percent = -0.002255 * weight + 13.146500\n"
     ]
    }
   ],
   "source": [
    "import numpy as np\n",
    "\n",
    "# Data: Average Weight (lb) and Percent Occurrence\n",
    "weight = np.array([4800, 3700, 3400, 2800, 1900])\n",
    "percent = np.array([3.1, 4.0, 5.2, 6.4, 9.6])\n",
    "\n",
    "# Least squares fit: percent = a * weight + b\n",
    "A = np.vstack([weight, np.ones_like(weight)]).T\n",
    "a, b = np.linalg.lstsq(A, percent, rcond=None)[0]\n",
    "print(f\"Least squares line: percent = {a:.6f} * weight + {b:.6f}\")"
   ]
  },
  {
   "cell_type": "markdown",
   "id": "201320d3",
   "metadata": {},
   "source": [
    "## Question 5: "
   ]
  },
  {
   "cell_type": "code",
   "execution_count": 5,
   "id": "a9c358f4",
   "metadata": {},
   "outputs": [
    {
     "name": "stdout",
     "output_type": "stream",
     "text": [
      "6th Maclaurin polynomial for x*exp(x):\n",
      "          6           5          4       3     2\n",
      "0.008333 x + 0.04167 x + 0.1667 x + 0.5 x + 1 x + 1 x\n",
      "Degree 3 Chebyshev approx, max error: 0.0253\n",
      "Degree 4 Chebyshev approx, max error: 0.0029\n",
      "Chebyshev economized polynomial (degree 4):\n",
      "0.56510417 + 1.40104167·T₁(x) + 0.58723958·T₂(x) + 0.13802083·T₃(x) +\n",
      "0.02239583·T₄(x)\n"
     ]
    }
   ],
   "source": [
    "import numpy as np\n",
    "from numpy.polynomial import Chebyshev\n",
    "from scipy.special import factorial\n",
    "\n",
    "# 6th Maclaurin polynomial for x*exp(x)\n",
    "def maclaurin_coeffs():\n",
    "    # Coefficients for x*exp(x) up to x^6\n",
    "    # f(x) = x + x^2/1! + x^3/2! + x^4/3! + x^5/4! + x^6/5!\n",
    "    return [0, 1, 1, 1/factorial(2), 1/factorial(3), 1/factorial(4), 1/factorial(5)]\n",
    "p6 = np.poly1d(maclaurin_coeffs()[::-1])\n",
    "print(\"6th Maclaurin polynomial for x*exp(x):\")\n",
    "print(p6)\n",
    "\n",
    "# Chebyshev economization\n",
    "x = np.linspace(-1, 1, 200)\n",
    "y = p6(x)\n",
    "cheb = Chebyshev.fit(x, y, 6, domain=[-1,1])\n",
    "for deg in range(3,7):\n",
    "    cheb_trunc = Chebyshev(cheb.coef[:deg+1], domain=[-1,1])\n",
    "    err = np.max(np.abs(y - cheb_trunc(x)))\n",
    "    print(f\"Degree {deg} Chebyshev approx, max error: {err:.4f}\")\n",
    "    if err < 0.01:\n",
    "        print(f\"Chebyshev economized polynomial (degree {deg}):\")\n",
    "        print(cheb_trunc)\n",
    "        break"
   ]
  },
  {
   "cell_type": "markdown",
   "id": "cf15dd46",
   "metadata": {},
   "source": [
    "## Question 6: "
   ]
  },
  {
   "cell_type": "code",
   "execution_count": null,
   "id": "cc5ec5d1",
   "metadata": {},
   "outputs": [],
   "source": []
  }
 ],
 "metadata": {
  "kernelspec": {
   "display_name": "tomodrgn",
   "language": "python",
   "name": "python3"
  },
  "language_info": {
   "codemirror_mode": {
    "name": "ipython",
    "version": 3
   },
   "file_extension": ".py",
   "mimetype": "text/x-python",
   "name": "python",
   "nbconvert_exporter": "python",
   "pygments_lexer": "ipython3",
   "version": "3.12.9"
  }
 },
 "nbformat": 4,
 "nbformat_minor": 5
}
