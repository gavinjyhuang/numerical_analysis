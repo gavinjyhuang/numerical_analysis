{
 "cells": [
  {
   "cell_type": "code",
   "execution_count": 18,
   "id": "519a02fb",
   "metadata": {},
   "outputs": [
    {
     "name": "stdout",
     "output_type": "stream",
     "text": [
      "Python Version: 3.13.7\n"
     ]
    }
   ],
   "source": [
    "import sys\n",
    "import numpy as np\n",
    "import matplotlib.pyplot as plt\n",
    "from collections.abc import Callable\n",
    "print(f\"Python Version: {sys.version.split()[0]}\")"
   ]
  },
  {
   "cell_type": "markdown",
   "id": "a2cd4feb",
   "metadata": {},
   "source": [
    "Define composite trapzoidal integration"
   ]
  },
  {
   "cell_type": "code",
   "execution_count": 25,
   "id": "86924ba8",
   "metadata": {},
   "outputs": [],
   "source": [
    "def trapezoidal(f: Callable, a: float, b: float, N: int) -> float:\n",
    "    \"\"\"Trapezoideal integration rule\n",
    "    \n",
    "    Args:\n",
    "      f: the function that is integrated\n",
    "      a: left endpoint of integration interval\n",
    "      b: right endpoint of integration interval\n",
    "      N: defines N+1 equally spaced integration points: x_0, ... , x_N\n",
    "    \"\"\"\n",
    "    h = (b-a) / N\n",
    "    return (f(a) + 2 * sum(f(np.linspace(a,b,N+1,endpoint=True))) + f(b)) * h / 2"
   ]
  },
  {
   "cell_type": "markdown",
   "id": "e33dd7b3",
   "metadata": {},
   "source": [
    "Simple Test"
   ]
  },
  {
   "cell_type": "code",
   "execution_count": 46,
   "id": "69d91b0a",
   "metadata": {},
   "outputs": [
    {
     "name": "stdout",
     "output_type": "stream",
     "text": [
      "Integrate sin(x) from 0 to pi\n",
      "Trapezoidal integration rule: 1.9935703437723395\n"
     ]
    }
   ],
   "source": [
    "print(\"Integrate sin(x) from 0 to pi\")\n",
    "print(f\"Trapezoidal integration rule: {trapezoidal(np.sin,0,np.pi,16)}\")"
   ]
  },
  {
   "cell_type": "markdown",
   "id": "53892f09",
   "metadata": {},
   "source": [
    "Define Romberg integration for "
   ]
  },
  {
   "cell_type": "code",
   "execution_count": 47,
   "id": "92c2f46b",
   "metadata": {},
   "outputs": [],
   "source": [
    "def romberg(f: Callable, a: float, b: float, intrule: Callable, M: int) -> np.ndarray:\n",
    "    \"\"\"Romberg integrationn. \n",
    "    In present form, the algorithm works for integration rules with even error terms.\n",
    "    Can be extended.\n",
    "    \n",
    "    Args:\n",
    "      f: function that is integrated\n",
    "      a: left endpoint of integration interval\n",
    "      b: right endpoint of integration interval\n",
    "      intrule: integration rule to which Richardson extrapolation is applied\n",
    "      M: defines the maximum number of integration points via n = 2**M  \n",
    "      \n",
    "    Returns:\n",
    "      Integral value\n",
    "    \"\"\"\n",
    "    N = M +1\n",
    "    R = np.zeros((N,N))\n",
    "    NN = [2**n for n in range(M+1)]\n",
    "    R[:,0] = np.array([intrule(f,a,b,n) for n in NN])\n",
    "    for i in range(1,N):\n",
    "        for j in range(1,i+1):\n",
    "            R[i,j] = R[i,j-1] + 1 / (4**j-1) * (R[i,j-1] - R[i-1,j-1])\n",
    "    return R[N-1,N-1]"
   ]
  },
  {
   "cell_type": "code",
   "execution_count": 44,
   "id": "2224ceaf",
   "metadata": {},
   "outputs": [
    {
     "name": "stdout",
     "output_type": "stream",
     "text": [
      "Integration of sin(x) from 0 to pi\n",
      "Romberg + Trapezoidal: 1.9999999945872906\n"
     ]
    }
   ],
   "source": [
    "print(\"Integration of sin(x) from 0 to pi\")\n",
    "print(f\"Romberg + Trapezoidal: {romberg(np.sin,0,np.pi,trapezoidal,4)}\")"
   ]
  }
 ],
 "metadata": {
  "kernelspec": {
   "display_name": "Python 3",
   "language": "python",
   "name": "python3"
  },
  "language_info": {
   "codemirror_mode": {
    "name": "ipython",
    "version": 3
   },
   "file_extension": ".py",
   "mimetype": "text/x-python",
   "name": "python",
   "nbconvert_exporter": "python",
   "pygments_lexer": "ipython3",
   "version": "3.13.7"
  }
 },
 "nbformat": 4,
 "nbformat_minor": 5
}
