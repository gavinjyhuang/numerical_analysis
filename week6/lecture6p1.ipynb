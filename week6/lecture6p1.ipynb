{
 "cells": [
  {
   "cell_type": "code",
   "execution_count": 29,
   "id": "ce784d77",
   "metadata": {},
   "outputs": [
    {
     "name": "stdout",
     "output_type": "stream",
     "text": [
      "Python Version 3.13.7\n"
     ]
    }
   ],
   "source": [
    "import sys\n",
    "import numpy as np\n",
    "from scipy.special import factorial\n",
    "import matplotlib.pyplot as plt\n",
    "print(f\"Python Version {sys.version.split()[0]}\")"
   ]
  },
  {
   "cell_type": "markdown",
   "id": "e3ffa3e8",
   "metadata": {},
   "source": [
    "# Taylor Table"
   ]
  },
  {
   "cell_type": "code",
   "execution_count": 69,
   "id": "4ff85441",
   "metadata": {},
   "outputs": [],
   "source": [
    "def taylor_table(order: int, m_down: int, m_up: int) -> np.ndarray :\n",
    "    \"\"\"\n",
    "    compute coefficients for difference approximations\n",
    "    \n",
    "    Args:\n",
    "      order: The order of derivative to be approximated\n",
    "      m_down: no. of points to the left (negative index shifts)\n",
    "      n_up: no. of points to the right (positive index shifts)\n",
    "    \"\"\"\n",
    "    N = m_down +m_up +1 # number of points\n",
    "\n",
    "    if order >= N:\n",
    "        raise RuntimeError(f\"Not enough points ({N}) for requested order ({order})\")\n",
    "\n",
    "    b = np.zeros(N)\n",
    "    b[order] = factorial(order)\n",
    "    A = np.array([np.arange(-m_down,m_up+1)**i for i in range(N)])\n",
    "    \n",
    "    coeff = np.linalg.solve(A,b)\n",
    "    print(coeff)"
   ]
  },
  {
   "cell_type": "code",
   "execution_count": 72,
   "id": "290842a8",
   "metadata": {},
   "outputs": [
    {
     "name": "stdout",
     "output_type": "stream",
     "text": [
      "[ 1. -2.  1.]\n"
     ]
    }
   ],
   "source": [
    "taylor_table(2, 1, 1)"
   ]
  },
  {
   "cell_type": "code",
   "execution_count": null,
   "id": "19028937",
   "metadata": {},
   "outputs": [],
   "source": []
  }
 ],
 "metadata": {
  "kernelspec": {
   "display_name": "Python 3",
   "language": "python",
   "name": "python3"
  },
  "language_info": {
   "codemirror_mode": {
    "name": "ipython",
    "version": 3
   },
   "file_extension": ".py",
   "mimetype": "text/x-python",
   "name": "python",
   "nbconvert_exporter": "python",
   "pygments_lexer": "ipython3",
   "version": "3.13.7"
  }
 },
 "nbformat": 4,
 "nbformat_minor": 5
}
