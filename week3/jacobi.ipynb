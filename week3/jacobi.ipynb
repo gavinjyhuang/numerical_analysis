{
 "cells": [
  {
   "cell_type": "code",
   "execution_count": null,
   "id": "898a30bf-1b70-40d0-a58f-860b07705184",
   "metadata": {},
   "outputs": [],
   "source": [
    "import sys\n",
    "print(f\"Python Version {sys.version.split()[0]}\")"
   ]
  },
  {
   "cell_type": "markdown",
   "id": "4a6cc32f-9e3d-46fd-bb3d-1de0b14338a6",
   "metadata": {},
   "source": [
    "Define the linear algebra problem"
   ]
  },
  {
   "cell_type": "code",
   "execution_count": null,
   "id": "b44140b9-2fcf-4b42-b9b4-49595017be0c",
   "metadata": {},
   "outputs": [],
   "source": [
    "#!{sys.executable} -m pip install --upgrade pip\n",
    "#!{sys.executable} -m pip install scipy\n",
    "from scipy import linalg\n",
    "import numpy as np\n",
    "import numpy.linalg as la\n",
    "N = 5\n",
    "H1 = linalg.hilbert(N)\n",
    "x = np.ones(N)\n",
    "b = H1 @ x"
   ]
  },
  {
   "cell_type": "markdown",
   "id": "4ad902d6-2cc8-43e8-a69f-929428055154",
   "metadata": {},
   "source": [
    "# The Jacobi iteration"
   ]
  },
  {
   "cell_type": "code",
   "execution_count": null,
   "id": "09fdfb3b-7a5b-45be-8e8e-a4df59e4eb52",
   "metadata": {},
   "outputs": [],
   "source": [
    "def jacobi(A, b, x, N_max = 150):\n",
    "    \"\"\"Jacobi iteration\"\"\"\n",
    "\n",
    "    if A.shape[0] != A.shape[1]:\n",
    "        raise RuntimeError(\"Error: Matrix must be square!\")\n",
    "\n",
    "    N = A.shape[0]\n",
    "\n",
    "    # check for diagonal dominance\n",
    "    \n",
    "    if any(np.sum(abs(A), axis=1) - 2 * abs(np.diag(A)) > 0):\n",
    "        print(\"Warning: Matrix is not diagonally dominant!\")\n",
    "\n",
    "    # For Jacobi iteration, the iteration matrix is G = I -D^{-1}*A\n",
    "    \n",
    "    G = A.copy()\n",
    "    for i in range(N):\n",
    "        G[i, :] /= G[i, i]\n",
    "    G = np.eye(N) - G\n",
    "\n",
    "    print(f\"rho(G) = {max(abs(la.eigvals(G)))}\")\n",
    "\n",
    "    r = b - np.matmul(A, x)\n",
    "    rho = la.norm(r)\n",
    "\n",
    "    TOL = 1.0e-08\n",
    "    n_iter = 0\n",
    "    while rho > TOL and n_iter <= N_max:\n",
    "        x += r / np.diag(A)\n",
    "        #x = G @ x + b / np.diag(A)\n",
    "        r = b - np.matmul(A, x)\n",
    "        rho = la.norm(r)\n",
    "        n_iter += 1\n",
    "\n",
    "        print(\n",
    "            f\" k = {n_iter}, |r| = {rho:e}\"\n",
    "        )\n"
   ]
  },
  {
   "cell_type": "code",
   "execution_count": null,
   "id": "ba2f656b-59a8-46fe-855f-e9800483fa32",
   "metadata": {},
   "outputs": [],
   "source": [
    "jacobi(H1,b,np.zeros(N))"
   ]
  },
  {
   "cell_type": "code",
   "execution_count": null,
   "id": "b02609bc-5097-48ef-925f-c8e0e3f2f884",
   "metadata": {},
   "outputs": [],
   "source": [
    "H2 = linalg.hilbert(N) + .8*np.eye(N)"
   ]
  },
  {
   "cell_type": "code",
   "execution_count": null,
   "id": "e7943594-9b63-46b3-8a34-a8d759af1a7b",
   "metadata": {},
   "outputs": [],
   "source": [
    "jacobi(H2,b,np.zeros(N))"
   ]
  },
  {
   "cell_type": "code",
   "execution_count": null,
   "id": "068db2b6-0c8b-4acc-8ce6-81918aa5afb4",
   "metadata": {},
   "outputs": [],
   "source": []
  }
 ],
 "metadata": {
  "kernelspec": {
   "display_name": "homebrew_extended",
   "language": "python",
   "name": "homebrew_extended"
  },
  "language_info": {
   "codemirror_mode": {
    "name": "ipython",
    "version": 3
   },
   "file_extension": ".py",
   "mimetype": "text/x-python",
   "name": "python",
   "nbconvert_exporter": "python",
   "pygments_lexer": "ipython3",
   "version": "3.13.5"
  }
 },
 "nbformat": 4,
 "nbformat_minor": 5
}
