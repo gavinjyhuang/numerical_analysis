{
 "cells": [
  {
   "cell_type": "code",
   "execution_count": 2,
   "id": "359218ac",
   "metadata": {},
   "outputs": [
    {
     "name": "stdout",
     "output_type": "stream",
     "text": [
      "Python Version 3.12.9\n"
     ]
    }
   ],
   "source": [
    "import sys\n",
    "print(f\"Python Version {sys.version.split()[0]}\")\n",
    "\n",
    "\n",
    "# define linear alg problem\n",
    "#!{sys.executable} -m pip install --upgrade pip\n",
    "#!{sys.executable} -m pip install scipy\n",
    "from scipy import linalg\n",
    "import numpy as np\n",
    "import numpy.linalg as la\n",
    "N = 10\n",
    "H1 = linalg.hilbert(N)\n",
    "x = np.ones(N)\n",
    "b = H1 @ x"
   ]
  },
  {
   "cell_type": "code",
   "execution_count": null,
   "id": "722d84ce",
   "metadata": {},
   "outputs": [],
   "source": [
    "# define usage of jacobi\n",
    "def jacobi(A, b, x, N_max = 150):\n",
    "    \"\"\"Jacobi iteration\"\"\"\n",
    "\n",
    "    if A.shape[0] != A.shape[1]:\n",
    "        raise RuntimeError(\"Error: Matrix must be square!\")\n",
    "\n",
    "    N = A.shape[0]\n",
    "\n",
    "    # check for diagonal dominance\n",
    "    \n",
    "    if any(np.sum(abs(A), axis=1) - 2 * abs(np.diag(A)) > 0):\n",
    "        print(\"Warning: Matrix is not diagonally dominant!\")\n",
    "\n",
    "    # For Jacobi iteration, the iteration matrix is G = I -D^{-1}*A\n",
    "    \n",
    "    G = A.copy()\n",
    "    for i in range(N):\n",
    "        G[i, :] /= G[i, i]\n",
    "    G = np.eye(N) - G\n",
    "\n",
    "    print(f\"rho(G) = {max(abs(la.eigvals(G)))}\")\n",
    "\n",
    "    r = b - np.matmul(A, x)\n",
    "    rho = la.norm(r)\n",
    "\n",
    "    TOL = 1.0e-08\n",
    "    n_iter = 0\n",
    "    while rho > TOL and n_iter <= N_max:\n",
    "        x += r / np.diag(A)\n",
    "        #x = G @ x + b / np.diag(A)\n",
    "        r = b - np.matmul(A, x)\n",
    "        rho = la.norm(r)\n",
    "        n_iter += 1\n",
    "\n",
    "        print(\n",
    "            f\" k = {n_iter}, |r| = {rho:e}\"\n",
    "        )\n"
   ]
  },
  {
   "cell_type": "code",
   "execution_count": null,
   "id": "3ab2d41b",
   "metadata": {},
   "outputs": [],
   "source": [
    "# define gauss seidel\n",
    "def gauss_seidel(A: np.ndarray, b: np.ndarray, x: np.ndarray, conv_tol: float = 1.e-8, N_max: int = 1000) -> np.ndarray:\n",
    "    \n",
    "    N = A.shape[0]\n",
    "\n",
    "    for k in range(1,N_max):\n",
    "\n",
    "        dx = 0\n",
    "        for i in range(N):\n",
    "            xik = x[i]\n",
    "            el = b[i]\n",
    "            for j in range(N):\n",
    "                el -= A[i,j] * x[j]\n",
    "            x[i] += el / A[i,i]\n",
    "            dx += (x[i] - xik) * (x[i] - xik)\n",
    "            \n",
    "        dx /= N\n",
    "        dx = np.sqrt(dx)\n",
    "        print(k,x)\n",
    "        #print(k,dx)\n",
    "        if (dx < conv_tol):\n",
    "            return x\n",
    "    \n",
    "    raise RuntimeError(f\"Gauss-Seidel: Maximum Iterations ({N_max}) reached\")\n",
    "    "
   ]
  },
  {
   "cell_type": "markdown",
   "id": "6e6f3a92",
   "metadata": {},
   "source": [
    "## Question 1:"
   ]
  },
  {
   "cell_type": "code",
   "execution_count": null,
   "id": "86baec20",
   "metadata": {},
   "outputs": [],
   "source": []
  }
 ],
 "metadata": {
  "kernelspec": {
   "display_name": "tomodrgn",
   "language": "python",
   "name": "python3"
  },
  "language_info": {
   "codemirror_mode": {
    "name": "ipython",
    "version": 3
   },
   "file_extension": ".py",
   "mimetype": "text/x-python",
   "name": "python",
   "nbconvert_exporter": "python",
   "pygments_lexer": "ipython3",
   "version": "3.12.9"
  }
 },
 "nbformat": 4,
 "nbformat_minor": 5
}
