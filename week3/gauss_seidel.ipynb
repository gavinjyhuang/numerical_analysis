{
 "cells": [
  {
   "cell_type": "code",
   "execution_count": 5,
   "id": "ca4bfc53-1776-4c7f-85df-e883a8934064",
   "metadata": {},
   "outputs": [
    {
     "name": "stdout",
     "output_type": "stream",
     "text": [
      "Python Version: 3.12.9\n"
     ]
    }
   ],
   "source": [
    "import sys\n",
    "print(f\"Python Version: {sys.version.split()[0]}\")"
   ]
  },
  {
   "cell_type": "code",
   "execution_count": 6,
   "id": "96f52275-f77a-4a02-8e92-35b054db534b",
   "metadata": {},
   "outputs": [],
   "source": [
    "import numpy as np"
   ]
  },
  {
   "cell_type": "code",
   "execution_count": 7,
   "id": "9bd0fe1e-3d43-4cdf-adb1-c77655620d9b",
   "metadata": {},
   "outputs": [],
   "source": [
    "def gauss_seidel(A: np.ndarray, b: np.ndarray, x: np.ndarray, conv_tol: float = 1.e-08, N_max: int = 1000) -> np.ndarray:\n",
    "    \n",
    "    N = A.shape[0]\n",
    "\n",
    "    for k in range(1,N_max):\n",
    "\n",
    "        dx = 0\n",
    "        for i in range(N):\n",
    "            xik = x[i]\n",
    "            el = b[i]\n",
    "            for j in range(N):\n",
    "                el -= A[i,j] * x[j]\n",
    "            x[i] += el / A[i,i]\n",
    "            dx += (x[i] - xik) * (x[i] - xik)\n",
    "            \n",
    "        dx /= N\n",
    "        dx = np.sqrt(dx)\n",
    "        print(k,x)\n",
    "        #print(k,dx)\n",
    "        if (dx < conv_tol):\n",
    "            return x\n",
    "    \n",
    "    raise RuntimeError(f\"Gauss-Seidel: Maximum Iterations ({N_max}) reached\")\n",
    "    "
   ]
  },
  {
   "cell_type": "code",
   "execution_count": 8,
   "id": "3b892de3-9ea2-4586-8a73-3655b50c8aea",
   "metadata": {},
   "outputs": [
    {
     "name": "stdout",
     "output_type": "stream",
     "text": [
      "1 [1.5  0.25]\n",
      "2 [1.375  0.4375]\n",
      "3 [1.28125  0.578125]\n",
      "4 [1.2109375  0.68359375]\n",
      "5 [1.15820312 0.76269531]\n",
      "6 [1.11865234 0.82202148]\n",
      "7 [1.08898926 0.86651611]\n",
      "8 [1.06674194 0.89988708]\n",
      "9 [1.05005646 0.92491531]\n",
      "10 [1.03754234 0.94368649]\n",
      "11 [1.02815676 0.95776486]\n",
      "12 [1.02111757 0.96832365]\n",
      "13 [1.01583818 0.97624274]\n",
      "14 [1.01187863 0.98218205]\n",
      "15 [1.00890897 0.98663654]\n",
      "16 [1.00668173 0.9899774 ]\n",
      "17 [1.0050113  0.99248305]\n",
      "18 [1.00375847 0.99436229]\n",
      "19 [1.00281886 0.99577172]\n",
      "20 [1.00211414 0.99682879]\n",
      "21 [1.00158561 0.99762159]\n",
      "22 [1.0011892  0.99821619]\n",
      "23 [1.0008919  0.99866214]\n",
      "24 [1.00066893 0.99899661]\n",
      "25 [1.0005017  0.99924746]\n",
      "26 [1.00037627 0.99943559]\n",
      "27 [1.0002822  0.99957669]\n",
      "28 [1.00021165 0.99968252]\n",
      "29 [1.00015874 0.99976189]\n",
      "30 [1.00011905 0.99982142]\n",
      "31 [1.00008929 0.99986606]\n",
      "32 [1.00006697 0.99989955]\n",
      "33 [1.00005023 0.99992466]\n",
      "34 [1.00003767 0.9999435 ]\n",
      "35 [1.00002825 0.99995762]\n",
      "36 [1.00002119 0.99996822]\n",
      "37 [1.00001589 0.99997616]\n",
      "38 [1.00001192 0.99998212]\n",
      "39 [1.00000894 0.99998659]\n",
      "40 [1.0000067  0.99998994]\n",
      "41 [1.00000503 0.99999246]\n",
      "42 [1.00000377 0.99999434]\n",
      "43 [1.00000283 0.99999576]\n",
      "44 [1.00000212 0.99999682]\n",
      "\n",
      "Solution vector x = array([1., 1.])\n",
      "\n"
     ]
    }
   ],
   "source": [
    "from scipy import linalg\n",
    "\n",
    "N = 2\n",
    "x = np.ones(N)\n",
    "A = linalg.hilbert(N)\n",
    "b = A @ x\n",
    "\n",
    "try:\n",
    "    gauss_seidel(A,b,np.zeros(N),conv_tol = 1e-06)\n",
    "    print(f\"\\nSolution vector {x = }\\n\")\n",
    "except RuntimeError as e:\n",
    "    print(f\"Runtime Error: {e}\")\n",
    "\n"
   ]
  },
  {
   "cell_type": "markdown",
   "id": "0835541a-1c52-4bac-92a1-77127e575aec",
   "metadata": {},
   "source": [
    "###### "
   ]
  }
 ],
 "metadata": {
  "kernelspec": {
   "display_name": "tomodrgn",
   "language": "python",
   "name": "python3"
  },
  "language_info": {
   "codemirror_mode": {
    "name": "ipython",
    "version": 3
   },
   "file_extension": ".py",
   "mimetype": "text/x-python",
   "name": "python",
   "nbconvert_exporter": "python",
   "pygments_lexer": "ipython3",
   "version": "3.12.9"
  }
 },
 "nbformat": 4,
 "nbformat_minor": 5
}
