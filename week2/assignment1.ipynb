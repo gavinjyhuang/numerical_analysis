{
 "cells": [
  {
   "cell_type": "code",
   "execution_count": 22,
   "id": "5bb1af3f",
   "metadata": {},
   "outputs": [],
   "source": [
    "import numpy as np\n",
    "import matplotlib.pyplot as plt\n",
    "from collections.abc import Callable"
   ]
  },
  {
   "cell_type": "markdown",
   "id": "ab41fa85",
   "metadata": {},
   "source": [
    "### Question 1:\n",
    "\n",
    "Suppose $f \\in C[a, b]$ and $f'$ exists on $(a, b)$. Show that if $f'(x) \\neq 0$ for all $x \\in (a, b)$, then there can exist at most one number $p$ in $[a, b]$ with $f(p) = 0$."
   ]
  },
  {
   "cell_type": "markdown",
   "id": "a97f3482",
   "metadata": {},
   "source": [
    "#### Solution:\n",
    "\n",
    "Suppose that there exist two distinct points $p_1, p_2 \\in [a, b]$ such that $f(p_1) = f(p_2) = 0$ and $p_1 \\neq p_2$.\n",
    "\n",
    "Since $f$ is continuous on $[a, b]$ and differentiable on $(a, b)$, by Rolle's Theorem, there exists $c \\in (p_1, p_2)$ such that $f'(c) = 0$.\n",
    "\n",
    "But this contradicts the assumption that $f'(x) \\neq 0$ for all $x \\in (a, b)$.\n",
    "\n",
    "Therefore, there can be at most one $p \\in [a, b]$ such that $f(p) = 0$."
   ]
  },
  {
   "cell_type": "markdown",
   "id": "67ef6e4f",
   "metadata": {},
   "source": [
    "#### Maclaurin Series for $\\sin x$\n",
    "\n",
    "The Maclaurin series for $\\sin x$ is:\n",
    "\n",
    "$$\\sin x = x - \\frac{x^3}{3!} + \\frac{x^5}{5!} - \\frac{x^7}{7!} + \\cdots = \\sum_{n=0}^{\\infty} (-1)^n \\frac{x^{2n+1}}{(2n+1)!}$$"
   ]
  },
  {
   "cell_type": "code",
   "execution_count": 23,
   "id": "a095dac5",
   "metadata": {},
   "outputs": [
    {
     "name": "stdout",
     "output_type": "stream",
     "text": [
      "Maclaurin approximation of sin(0.7853981633974483): 0.7071067811865475\n",
      "math.sin(0.7853981633974483): 0.7071067811865475\n"
     ]
    }
   ],
   "source": [
    "import math\n",
    "\n",
    "def maclaurin_sin(x, n_terms=10):\n",
    "    result = 0.0\n",
    "    for n in range(n_terms):\n",
    "        term = ((-1)**n) * (x**(2*n+1)) / math.factorial(2*n+1)\n",
    "        result += term\n",
    "    return result\n",
    "\n",
    "x = math.pi / 4 \n",
    "approx = maclaurin_sin(x, n_terms=10)\n",
    "print(f\"Maclaurin approximation of sin({x}): {approx}\")\n",
    "print(f\"math.sin({x}): {math.sin(x)}\")"
   ]
  },
  {
   "cell_type": "code",
   "execution_count": 24,
   "id": "f6531019",
   "metadata": {},
   "outputs": [
    {
     "name": "stdout",
     "output_type": "stream",
     "text": [
      "maclaurin approximation of cos(1.0471975511965976): 0.5000000000000001\n",
      "math.cos(1.0471975511965976): 0.5000000000000001\n"
     ]
    }
   ],
   "source": [
    "def maclaurin_cos(x, n_terms):\n",
    "    \"\"\"Compute cos(x) using Maclaurin series up to n_terms.\"\"\"\n",
    "    result = 0.0\n",
    "    for n in range(n_terms):\n",
    "        term = ((-1)**n) * (x**(2*n)) / math.factorial(2*n)\n",
    "        result += term\n",
    "    return result\n",
    "\n",
    "x = math.pi / 3\n",
    "approx = maclaurin_cos(x, 10)\n",
    "print(f\"maclaurin approximation of cos({x}): {approx}\")\n",
    "print(f\"math.cos({x}): {math.cos(x)}\")"
   ]
  },
  {
   "cell_type": "markdown",
   "id": "a59a0804",
   "metadata": {},
   "source": [
    "The Maclaurin series for $e^{ix}$ is:\n",
    "$$e^{ix} = \\sum_{n=0}^{\\infty} \\frac{(ix)^n}{n!}$$\n",
    "\n",
    "expand the powers of $i$ and group:\n",
    "- even $n = 2k$: $(ix)^{2k} = i^{2k}x^{2k} = (-1)^k x^{2k}$\n",
    "- odd $n = 2k+1$: $(ix)^{2k+1} = i^{2k+1}x^{2k+1} = i(-1)^k x^{2k+1}$\n",
    "\n",
    "$$e^{ix} = \\sum_{k=0}^{\\infty} \\frac{(-1)^k x^{2k}}{(2k)!} + i \\sum_{k=0}^{\\infty} \\frac{(-1)^k x^{2k+1}}{(2k+1)!}$$\n",
    "\n",
    "The first sum is the Maclaurin series for $\\cos x$, and the second is for $\\sin x$."
   ]
  },
  {
   "cell_type": "markdown",
   "id": "c1960144",
   "metadata": {},
   "source": [
    "### Question 3"
   ]
  },
  {
   "cell_type": "code",
   "execution_count": 25,
   "id": "cc38b3ca",
   "metadata": {},
   "outputs": [
    {
     "name": "stdout",
     "output_type": "stream",
     "text": [
      "Largest interval for p* to approximate pi with relative error at most 0.0001:\n",
      "[3.141278494324434, 3.141906812855152]\n"
     ]
    }
   ],
   "source": [
    "import math\n",
    "\n",
    "p = math.pi\n",
    "rel_error = 1e-4\n",
    "\n",
    "delta = rel_error * p\n",
    "lower = p - delta\n",
    "upper = p + delta\n",
    "\n",
    "print(f\"Largest interval for p* to approximate pi with relative error at most {rel_error}:\")\n",
    "print(f\"[{lower}, {upper}]\")"
   ]
  },
  {
   "cell_type": "markdown",
   "id": "312d4404",
   "metadata": {},
   "source": [
    "### Question 4:"
   ]
  },
  {
   "cell_type": "code",
   "execution_count": null,
   "id": "b46b9c6e",
   "metadata": {},
   "outputs": [
    {
     "name": "stdout",
     "output_type": "stream",
     "text": [
      "(a) 133 + 0.921\n",
      "True value: 133.921\n",
      "Three-digit rounded: 134.0\n",
      "Absolute error: 0.079\n",
      "Relative error: 0.0005899\n",
      "\n",
      "(b) 133 - 0.499\n",
      "True value: 132.501\n",
      "Three-digit rounded: 133.0\n",
      "Absolute error: 0.499\n",
      "Relative error: 0.003766\n",
      "\n",
      "(c) (121 - 0.327) - 119\n",
      "True value: 1.6730000000000018\n",
      "Three-digit rounded: 2.0\n",
      "Absolute error: 0.327\n",
      "Relative error: 0.19546\n",
      "\n",
      "(d) (121 - 119) - 0.327\n",
      "True value: 1.673\n",
      "Three-digit rounded: 1.67\n",
      "Absolute error: 0.003\n",
      "Relative error: 0.0017932\n"
     ]
    }
   ],
   "source": [
    "def round3(x):\n",
    "    if x == 0:\n",
    "        return 0.0\n",
    "    else:\n",
    "        return float(f\"{x:.3g}\")\n",
    "\n",
    "def abs_rel_error(true, approx):\n",
    "    abs_err = abs(true - approx)\n",
    "    rel_err = abs_err / abs(true) if true != 0 else float('inf')\n",
    "    return abs_err, rel_err\n",
    "\n",
    "# (a) 133 + 0.921\n",
    "true_a = 133 + 0.921\n",
    "a1 = round3(133)\n",
    "a2 = round3(0.921)\n",
    "approx_a = round3(a1 + a2)\n",
    "abs_a, rel_a = abs_rel_error(true_a, approx_a)\n",
    "\n",
    "# (b) 133 - 0.499\n",
    "true_b = 133 - 0.499\n",
    "b1 = round3(133)\n",
    "b2 = round3(0.499)\n",
    "approx_b = round3(b1 - b2)\n",
    "abs_b, rel_b = abs_rel_error(true_b, approx_b)\n",
    "\n",
    "# (c) (121 - 0.327) - 119\n",
    "true_c = (121 - 0.327) - 119\n",
    "c1 = round3(121)\n",
    "c2 = round3(0.327)\n",
    "c3 = round3(c1 - c2)\n",
    "c4 = round3(119)\n",
    "approx_c = round3(c3 - c4)\n",
    "abs_c, rel_c = abs_rel_error(true_c, approx_c)\n",
    "\n",
    "# (d) (121 - 119) - 0.327\n",
    "true_d = (121 - 119) - 0.327\n",
    "d1 = round3(121)\n",
    "d2 = round3(119)\n",
    "d3 = round3(d1 - d2)\n",
    "d4 = round3(0.327)\n",
    "approx_d = round3(d3 - d4)\n",
    "abs_d, rel_d = abs_rel_error(true_d, approx_d)\n",
    "\n",
    "print(\"(a) 133 + 0.921\")\n",
    "print(f\"True value: {true_a}\")\n",
    "print(f\"Three-digit rounded: {approx_a}\")\n",
    "print(f\"Absolute error: {abs_a:.5g}\")\n",
    "print(f\"Relative error: {rel_a:.5g}\\n\")\n",
    "\n",
    "print(\"(b) 133 - 0.499\")\n",
    "print(f\"True value: {true_b}\")\n",
    "print(f\"Three-digit rounded: {approx_b}\")\n",
    "print(f\"Absolute error: {abs_b:.5g}\")\n",
    "print(f\"Relative error: {rel_b:.5g}\\n\")\n",
    "\n",
    "print(\"(c) (121 - 0.327) - 119\")\n",
    "print(f\"True value: {true_c}\")\n",
    "print(f\"Three-digit rounded: {approx_c}\")\n",
    "print(f\"Absolute error: {abs_c:.5g}\")\n",
    "print(f\"Relative error: {rel_c:.5g}\\n\")\n",
    "\n",
    "print(\"(d) (121 - 119) - 0.327\")\n",
    "print(f\"True value: {true_d}\")\n",
    "print(f\"Three-digit rounded: {approx_d}\")\n",
    "print(f\"Absolute error: {abs_d:.5g}\")\n",
    "print(f\"Relative error: {rel_d:.5g}\")"
   ]
  },
  {
   "cell_type": "markdown",
   "id": "98507579",
   "metadata": {},
   "source": [
    "Conclusion: \n",
    "when numbers of very different magnitudes, such as (a) and (b), are added/subtracted, 3 digit rounding introduces small errors, but relative error is still pretty low. \n",
    "\n",
    "When subtracting nearly equal numbers, such as in (c), sig digs are lost in cancellation, which leads to a large relative error. \n",
    "\n",
    "The order of operations, in (d), shows that grouping the smaller numbers together first before subtracting preserves more accuracy. "
   ]
  },
  {
   "cell_type": "markdown",
   "id": "903cf7f0",
   "metadata": {},
   "source": [
    "### Question 5"
   ]
  },
  {
   "cell_type": "code",
   "execution_count": 27,
   "id": "edd0209c",
   "metadata": {},
   "outputs": [
    {
     "name": "stdout",
     "output_type": "stream",
     "text": [
      "0, 1.5\n",
      "1, 1.25\n",
      "2, 1.375\n",
      "3, 1.4375\n",
      "4, 1.46875\n",
      "5, 1.453125\n",
      "6, 1.4609375\n",
      "7, 1.45703125\n",
      "8, 1.458984375\n",
      "9, 1.4580078125\n",
      "10, 1.45849609375\n",
      "11, 1.458740234375\n",
      "12, 1.4586181640625\n",
      "13, 1.45855712890625\n",
      "14, 1.458587646484375\n",
      "15, 1.4586029052734375\n",
      "16, 1.4586105346679688\n",
      "17, 1.4586143493652344\n",
      "18, 1.4586162567138672\n",
      "19, 1.4586153030395508\n",
      "20, 1.4586148262023926\n",
      "21, 1.4586150646209717\n",
      "22, 1.4586149454116821\n",
      "23, 1.458615005016327\n",
      "24, 1.4586150348186493\n",
      "25, 1.458615019917488\n",
      "26, 1.4586150273680687\n",
      "The value of ln(4.3) is approximately 1.4586150273680687\n",
      "Observed steps: 27\n",
      "Theoretical minimum steps: 27\n",
      "Ratio (observed/theoretical): 1.00\n"
     ]
    },
    {
     "data": {
      "image/png": "[encoded data removed]",
      "text/plain": [
       "<Figure size 640x480 with 1 Axes>"
      ]
     },
     "metadata": {},
     "output_type": "display_data"
    }
   ],
   "source": [
    "# Problem 5\n",
    "\n",
    "def bisection(func: Callable[[float],float], ab: list[float], eps: float = 1.e-08, N_max: int = 500) -> float: #eps 很小的数\n",
    "    \"\"\"Performs bisection \n",
    "\n",
    "    Arguments:\n",
    "      func: the function for which is root is to be found\n",
    "      ab: list of the form [a,b], the initial interval in which a root lies\n",
    "      eps: convergence tolerance for the smallest interval size\n",
    "      N_max: maximum iterations\n",
    "    \"\"\"\n",
    "\n",
    "    a = ab[0] \n",
    "    b = ab[1]\n",
    "    f_a = func(a)\n",
    "    temp = []\n",
    "    \n",
    "    if np.sign(f_a)*np.sign(func(b)) > 0:\n",
    "        raise ValueError(\n",
    "            \"Initial Inverval [a,b] must be such that f(a)f(b) < 0\") \n",
    "    for n in range(N_max):\n",
    "        p = a + 0.5*(b-a)\n",
    "        print(f\"{n}, {p}\")\n",
    "        temp.append(p)\n",
    "        f_p = func(p)\n",
    "\n",
    "        if 0.5*(b-a) < eps or abs(f_p) < eps:\n",
    "            return temp\n",
    "\n",
    "        if np.sign(f_a)*np.sign(f_p) > 0:\n",
    "            f_a = f_p\n",
    "            a = p\n",
    "        else:\n",
    "            b = p\n",
    "\n",
    "    raise RuntimeError(f\"Reached maximum iteration {N_max = }\")\n",
    "\n",
    "\n",
    "temp = bisection(lambda x: np.exp(x)-4.3, [1,2])\n",
    "    \n",
    "print(\"The value of ln(4.3) is approximately\",temp[-1])\n",
    "\n",
    "# Compare observed vs theoretical number of bisection steps\n",
    "import math\n",
    "\n",
    "x_ex=np.log(4.3)\n",
    "\n",
    "a, b = 1, 2  # initial interval\n",
    "n_observed = len(temp)\n",
    "\n",
    "tol = 1.e-8\n",
    "n_theoretical = math.ceil(math.log2((b - a) / tol))\n",
    "\n",
    "print(f\"Observed steps: {n_observed}\")\n",
    "print(f\"Theoretical minimum steps: {n_theoretical}\")\n",
    "print(f\"Ratio (observed/theoretical): {n_observed/n_theoretical:.2f}\")\n",
    "\n",
    "theoretical_error = [(b - a) / (2 ** (n + 1)) for n in range(1, len(temp) + 1)]\n",
    "plt.semilogy(range(len(temp)), theoretical_error, 'r--', label='Theoretical error bound', linewidth=2)\n",
    "\n",
    "plt.semilogy(range(len(temp)), [abs(x_ex - x) for x in temp], marker='o', label='|x_n - x|')\n",
    "plt.xlabel('N')\n",
    "plt.ylabel('|x_n - x|')\n",
    "plt.grid()"
   ]
  },
  {
   "cell_type": "markdown",
   "id": "580aa4f3",
   "metadata": {},
   "source": [
    "### Question 6:"
   ]
  },
  {
   "cell_type": "markdown",
   "id": "9d0f299b",
   "metadata": {},
   "source": [
    "### Fixed Point for $g(x) = \\cos(\\ln(x+1))$ on $[0,2]$\n",
    "\n",
    "**Uniqueness:**\n",
    "- $g(x)$ is continuous on $[0,2]$ since $\\ln(x+1)$ is defined and continuous for $x \\geq 0$.\n",
    "- $g(x)$ maps $[0,2]$ into itself:\n",
    "    - $g(0) = \\cos(\\ln(1)) = \\cos(0) = 1$\n",
    "    - $g(2) = \\cos(\\ln(3)) \\approx \\cos(1.0986) \\approx 0.455$\n",
    "    - For $x \\in [0,2]$, $\\ln(x+1) \\in [0, \\ln(3)]$, so $\\cos(\\ln(x+1)) \\in [0.455, 1]$\n",
    "    - Thus, $g(x) \\in [0.455, 1] \\subset [0,2]$\n",
    "- $g(x)$ is a contraction mapping on $[0,2]$ (since $|g'(x)| < 1$ for all $x \\in [0,2]$), so by the Banach fixed-point theorem, there is a unique fixed point in $[0,2]$."
   ]
  },
  {
   "cell_type": "code",
   "execution_count": 31,
   "id": "3023d40d",
   "metadata": {},
   "outputs": [
    {
     "name": "stdout",
     "output_type": "stream",
     "text": [
      "Fixed point approximation: 0.8262141036099004\n",
      "Steps taken: 4\n",
      "Absolute error estimate: 0.0069312\n"
     ]
    }
   ],
   "source": [
    "import numpy as np\n",
    "\n",
    "def g(x):\n",
    "    return np.cos(np.log(x + 1))\n",
    "\n",
    "def fixed_point(g, x0, tol=1e-2, max_iter=100):\n",
    "    history = [x0]\n",
    "    for i in range(max_iter):\n",
    "        x1 = g(x0)\n",
    "        history.append(x1)\n",
    "        if abs(x1 - x0) < tol:\n",
    "            return x1, i+1, history\n",
    "        x0 = x1\n",
    "    return x1, max_iter, history\n",
    "\n",
    "x0 = 1.0\n",
    "fp, steps, history = fixed_point(g, x0)\n",
    "print(f\"Fixed point approximation: {fp}\")\n",
    "print(f\"Steps taken: {steps}\")\n",
    "print(f\"Absolute error estimate: {abs(history[-1] - history[-2]):.5g}\")"
   ]
  },
  {
   "cell_type": "markdown",
   "id": "a9b4d609",
   "metadata": {},
   "source": [
    "#### Question 7:"
   ]
  },
  {
   "cell_type": "markdown",
   "id": "ac34d490",
   "metadata": {},
   "source": [
    "#### Interval of Convergence for $g(x) = 2x - Ax^2$\n",
    "(a)\n",
    "\n",
    "If we can use fixed-point iteration on $g(x)$, $g(p) = p$. \n",
    "\n",
    "$$g(x) = 2x-Ax^2$$\n",
    "$$2P-AP^2 = P$$\n",
    "\n",
    "Since $A > 0, P \\neq 0, P = 1/A.$\n",
    "\n",
    "(b)\n",
    "\n",
    "The fixed-point iteration $x_{n+1} = g(x_n)$ converges if $|g'(x)| < 1$ near the fixed point $p = 1/A$.\n",
    "\n",
    "Derivative:\n",
    "$$\n",
    "g'(x) = 2 - 2Ax\n",
    "$$\n",
    "\n",
    "For convergence, we need $|g'(x)| < 1$:\n",
    "$$\n",
    "|2 - 2Ax| < 1\n",
    "$$\n",
    "So the interval of convergence is:\n",
    "$$\n",
    "\\left(\\frac{1}{2A}, \\frac{3}{2A}\\right)\n",
    "$$\n",
    "If the starting value $x_0$ is in this interval, the fixed-point iteration will converge to $p = 1/A$."
   ]
  },
  {
   "cell_type": "markdown",
   "id": "b46b36ab",
   "metadata": {},
   "source": [
    "### Question 8:"
   ]
  },
  {
   "cell_type": "markdown",
   "id": "66cd3d50",
   "metadata": {},
   "source": [
    "### Question 8: \n",
    "\n",
    "To find the rate $\\omega$ at which $\\theta$ changes, we use the bisection method to solve for the root of the equation:\n",
    "\n",
    "$$ x(1) = -\\frac{g}{2\\omega^2} \\left( \\frac{e^{\\omega t} - e^{-\\omega t}}{2} - \\sin \\omega t \\right) = 0.5 $$\n",
    "\n",
    "This can be rearranged to:\n",
    "\n",
    "$$ f(\\omega) = 9.807 \\left( \\frac{e^{\\omega} - e^{-\\omega}}{2} - \\sin \\omega \\right) + \\omega^2 = 0 $$\n",
    "\n",
    "Bisection method applied in python below. "
   ]
  },
  {
   "cell_type": "code",
   "execution_count": null,
   "id": "558717bb",
   "metadata": {},
   "outputs": [
    {
     "name": "stdout",
     "output_type": "stream",
     "text": [
      "0, -0.025000000000000022\n",
      "1, -0.1875\n",
      "2, -0.26875\n",
      "3, -0.30937499999999996\n",
      "4, -0.2890625\n",
      "5, -0.29921875\n",
      "6, -0.30429687499999997\n",
      "7, -0.30683593749999993\n",
      "8, -0.30556640625\n",
      "9, -0.30620117187499996\n",
      "10, -0.30588378906249997\n",
      "11, -0.30604248046874993\n",
      "12, -0.305963134765625\n",
      "13, -0.3059234619140625\n",
      "14, -0.3059036254882812\n",
      "15, -0.30589370727539056\n",
      "16, -0.3058986663818359\n",
      "17, -0.30590114593505857\n",
      "18, -0.3058999061584472\n",
      "19, -0.3059005260467529\n",
      "20, -0.30590083599090573\n",
      "21, -0.3059006810188293\n",
      "22, -0.30590075850486753\n",
      "The rate w is approximately -0.30590075850486753\n"
     ]
    }
   ],
   "source": [
    "def bisection(func: Callable[[float],float], ab: list[float], eps: float = 1.e-08, N_max: int = 500) -> float:\n",
    "\n",
    "    a = ab[0] \n",
    "    b = ab[1]\n",
    "    f_a = func(a)\n",
    "    temp = []\n",
    "    \n",
    "    if np.sign(f_a)*np.sign(func(b)) > 0:\n",
    "        raise ValueError(\n",
    "            \"Initial Inverval [a,b] must be such that f(a)f(b) < 0\") \n",
    "\n",
    "    for n in range(N_max):\n",
    "        p = a + 0.5*(b-a)\n",
    "        print(f\"{n}, {p}\")\n",
    "        temp.append(p)\n",
    "        f_p = func(p)\n",
    "\n",
    "        if 0.5*(b-a) < eps or abs(f_p) < eps:\n",
    "            return temp\n",
    "\n",
    "        if np.sign(f_a)*np.sign(f_p) > 0:\n",
    "            f_a = f_p\n",
    "            a = p\n",
    "        else:\n",
    "            b = p\n",
    "\n",
    "    raise RuntimeError(f\"Reached maximum iteration {N_max = }\")\n",
    "\n",
    "\n",
    "temp = bisection(lambda x: 9.807 * ((np.exp(x) -np.exp(-x)) / 2-np.sin(x)) + x**2, [-0.35,0.3])\n",
    "    \n",
    "print(\"The rate is approximately: \",temp[-1])"
   ]
  },
  {
   "cell_type": "markdown",
   "id": "73759b50",
   "metadata": {},
   "source": [
    "### Question 9:\n",
    "\n",
    "The position of our object a function of time is:\n",
    "\n",
    "$$\n",
    "S(t) = S_0 - \\frac{mg}{k} t + \\frac{m^2 g}{k^2} \\left(1 - e^{-\\frac{k t}{m}}\\right)\n",
    "$$\n",
    "\n",
    "When the object hits the ground ($S(t) = 0$), we solve for $t$:\n",
    "\n",
    "$$\n",
    "0 = 100 - \\frac{0.1 \\times 9.807}{0.1488} t + \\frac{(0.1)^2 \\times 9.807}{(0.1488)^2} \\left(1 - e^{-\\frac{0.1488 t}{0.1}}\\right)\n",
    "$$\n",
    "\n",
    "To find the time $t$ when the object reaches the ground, we use bisection to solve $S(t) = 0$ for $t > 0$.\n"
   ]
  },
  {
   "cell_type": "code",
   "execution_count": 37,
   "id": "eeac1f30",
   "metadata": {},
   "outputs": [
    {
     "name": "stdout",
     "output_type": "stream",
     "text": [
      "f(5) = 71.47302094808092\n",
      "f(10) = 38.52199162183102\n",
      "f(15) = 5.568364116341797\n",
      "f(20) = -27.385264915019604\n",
      "0, 17.5\n",
      "1, 16.25\n",
      "2, 15.625\n",
      "3, 15.9375\n",
      "4, 15.78125\n",
      "5, 15.859375\n",
      "6, 15.8203125\n",
      "7, 15.83984375\n",
      "8, 15.849609375\n",
      "9, 15.8447265625\n",
      "10, 15.84716796875\n",
      "11, 15.845947265625\n",
      "12, 15.8453369140625\n",
      "13, 15.84503173828125\n",
      "14, 15.844879150390625\n",
      "15, 15.844802856445312\n",
      "16, 15.844841003417969\n",
      "17, 15.844860076904297\n",
      "18, 15.844869613647461\n",
      "19, 15.844874382019043\n",
      "20, 15.844876766204834\n",
      "21, 15.84487795829773\n",
      "22, 15.844878554344177\n",
      "23, 15.844878852367401\n",
      "24, 15.84487870335579\n",
      "25, 15.844878777861595\n",
      "26, 15.844878740608692\n",
      "Root found: 15.844878740608692\n",
      "The object hits the ground at approximately 15.844878740608692 seconds\n"
     ]
    }
   ],
   "source": [
    "def bisection(func: Callable[[float], float], ab: list[float], eps: float = 1.e-08, N_max: int = 500) -> list[float]:\n",
    "\n",
    "    a = ab[0]  \n",
    "    b = ab[1]  \n",
    "    f_a = func(a)\n",
    "    temp = []\n",
    "    \n",
    "    if np.sign(f_a) * np.sign(func(b)) > 0:\n",
    "        raise ValueError(\n",
    "            \"Initial Interval [a,b] must be such that f(a)f(b) < 0\")  \n",
    "\n",
    "    for n in range(N_max):\n",
    "        p = a + 0.5 * (b - a)\n",
    "        print(f\"{n}, {p}\")\n",
    "        temp.append(p)\n",
    "        f_p = func(p)\n",
    "\n",
    "        if 0.5 * (b - a) < eps or abs(f_p) < eps:\n",
    "            return temp\n",
    "\n",
    "        if np.sign(f_a) * np.sign(f_p) > 0:\n",
    "            f_a = f_p\n",
    "            a = p\n",
    "        else:\n",
    "            b = p\n",
    "\n",
    "    raise RuntimeError(f\"Reached maximum iteration {N_max}\")\n",
    "\n",
    "\n",
    "def f(x):\n",
    "    return (0.1**2)*9.807/(0.1488**2) * (1- np.exp(-1.488 * x)) + 100 -9.807*x/1.488\n",
    "\n",
    "\n",
    "print(f\"f(5) = {f(5)}\")\n",
    "print(f\"f(10) = {f(10)}\")\n",
    "print(f\"f(15) = {f(15)}\")\n",
    "print(f\"f(20) = {f(20)}\")\n",
    "\n",
    "\n",
    "try:\n",
    "    temp = bisection(f, [15, 20])  \n",
    "    print(\"Root found:\", temp[-1])\n",
    "except ValueError as e:\n",
    "    print(e)\n",
    "\n",
    "print(\"The object hits the ground at approximately\", temp[-1], \"seconds\")"
   ]
  },
  {
   "cell_type": "markdown",
   "id": "d4d85453",
   "metadata": {},
   "source": [
    "### Question 10: \n",
    "\n",
    "The annuity formula is:\n",
    "$$\n",
    "A = \\frac{P}{i} \\left( (1 + i)^n - 1 \\right)\n",
    "$$\n",
    "\n",
    "Substitute the given values:\n",
    "$$\n",
    "75{,}000 = \\frac{1{,}500}{i} \\left( (1 + i)^{240} - 1 \\right)\n",
    "$$\n",
    "$$\n",
    "500i = (1 + i)^{240} - 1\n",
    "$$\n",
    "\n",
    "To solve for $i$, we set up the equation:\n",
    "$$\n",
    "f(i) = (1 + i)^{240} - 1 - 500i = 0\n",
    "$$"
   ]
  },
  {
   "cell_type": "code",
   "execution_count": null,
   "id": "de291a79",
   "metadata": {},
   "outputs": [
    {
     "name": "stdout",
     "output_type": "stream",
     "text": [
      "f(0.005) = 0.18979552419263612\n",
      "f(0.0055) = 0.020093167966220626\n",
      "f(0.0057) = -0.0622628960894942\n",
      "f(0) = 0\n",
      "0, 0.0056\n",
      "1, 0.005549999999999999\n",
      "2, 0.005575\n",
      "3, 0.0055625\n",
      "4, 0.0055562499999999996\n",
      "5, 0.005553124999999999\n",
      "6, 0.005551562499999999\n",
      "7, 0.005550781249999999\n",
      "8, 0.005551171874999999\n",
      "9, 0.005550976562499999\n",
      "10, 0.005550878906249999\n",
      "11, 0.005550830078124999\n",
      "12, 0.005550805664062499\n",
      "13, 0.00555079345703125\n",
      "14, 0.0055507873535156245\n",
      "Root found: 0.0055507873535156245\n",
      "The minimal monthly interest is approximately 0.0055507873535156245\n"
     ]
    }
   ],
   "source": [
    "def bisection(func: Callable[[float], float], ab: list[float], eps: float = 1.e-08, N_max: int = 500) -> list[float]:\n",
    "    a = ab[0]  \n",
    "    b = ab[1]  \n",
    "    f_a = func(a)\n",
    "    temp = []\n",
    "    \n",
    "    if np.sign(f_a) * np.sign(func(b)) > 0:\n",
    "        raise ValueError(\n",
    "            \"Initial Interval [a,b] must be such that f(a)f(b) < 0\")  \n",
    "\n",
    "    for n in range(N_max):\n",
    "        p = a + 0.5 * (b - a)\n",
    "        print(f\"{n}, {p}\")\n",
    "        temp.append(p)\n",
    "        f_p = func(p)\n",
    "\n",
    "        if 0.5 * (b - a) < eps or abs(f_p) < eps:\n",
    "            return temp\n",
    "\n",
    "        if np.sign(f_a) * np.sign(f_p) > 0:\n",
    "            f_a = f_p\n",
    "            a = p\n",
    "        else:\n",
    "            b = p\n",
    "\n",
    "    raise RuntimeError(f\"Reached maximum iteration {N_max}\")\n",
    "\n",
    "\n",
    "def f(x):\n",
    "    return 500*x-(1+x)**240+1\n",
    "\n",
    "\n",
    "print(f\"f(0.005) = {f(0.005)}\")\n",
    "print(f\"f(0.0055) = {f(0.0055)}\")\n",
    "print(f\"f(0.0057) = {f(0.0057)}\")\n",
    "print(f\"f(0) = {f(0)}\")\n",
    "\n",
    "try:\n",
    "    temp = bisection(f, [0.0055, 0.0057])\n",
    "    print(\"Root found:\", temp[-1])\n",
    "except ValueError as e:\n",
    "    print(e)\n",
    "\n",
    "print(\"The minimal monthly interest is approximately\",temp[-1])"
   ]
  },
  {
   "cell_type": "code",
   "execution_count": null,
   "id": "02ad373e",
   "metadata": {},
   "outputs": [],
   "source": []
  }
 ],
 "metadata": {
  "kernelspec": {
   "display_name": "tomodrgn",
   "language": "python",
   "name": "python3"
  },
  "language_info": {
   "codemirror_mode": {
    "name": "ipython",
    "version": 3
   },
   "file_extension": ".py",
   "mimetype": "text/x-python",
   "name": "python",
   "nbconvert_exporter": "python",
   "pygments_lexer": "ipython3",
   "version": "3.12.9"
  }
 },
 "nbformat": 4,
 "nbformat_minor": 5
}
