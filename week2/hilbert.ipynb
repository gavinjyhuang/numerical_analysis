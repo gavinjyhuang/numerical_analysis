{
 "cells": [
  {
   "cell_type": "code",
   "execution_count": 1,
   "id": "381d2bc0",
   "metadata": {},
   "outputs": [],
   "source": [
    "import numpy as np"
   ]
  },
  {
   "cell_type": "markdown",
   "id": "854832d3",
   "metadata": {},
   "source": [
    "Define a function to compute the Hilbert matrix"
   ]
  },
  {
   "cell_type": "code",
   "execution_count": 15,
   "id": "b14c4da3",
   "metadata": {},
   "outputs": [],
   "source": [
    "def hilbert(n: int) -> np.ndarray:\n",
    "    \"\"\"computes the n x n Hilbert matrix.\n",
    "    Args:\n",
    "        n: The size of the matrix.\n",
    "    \"\"\"\n",
    "    H = np.zeros((n, n), dtype=float)\n",
    "    for i in range(n):\n",
    "        for j in range(n):\n",
    "            H[i, j] = 1.0 / (i + j + 1)\n",
    "    return H"
   ]
  },
  {
   "cell_type": "markdown",
   "id": "803adb8a",
   "metadata": {},
   "source": [
    "Check the condition number of the Hilbert matrix for various sizes"
   ]
  },
  {
   "cell_type": "markdown",
   "id": "8f627636",
   "metadata": {},
   "source": [
    "We import the inverse Hilbert matrix from scipy. Note that we could have imported the Hilbert matrix itself as well, instead of defining it ourselves. It is easy to compute the infinity-norm condition number \"by hand\", as the entries of the inverse Hilbert matrix are integers and can be computed from a formula. We compare the result to the estimate provided by numpy's intrinsic function\n"
   ]
  },
  {
   "cell_type": "code",
   "execution_count": 31,
   "id": "2d543c01",
   "metadata": {},
   "outputs": [
    {
     "name": "stdout",
     "output_type": "stream",
     "text": [
      "n=1: cond(H) =  1.000000e+00, theoretical = 1.000000e+00, ratio = 1.000000\n",
      "n=2: cond(H) =  2.700000e+01, theoretical = 2.700000e+01, ratio = 1.000000\n",
      "n=3: cond(H) =  7.480000e+02, theoretical = 7.480000e+02, ratio = 1.000000\n",
      "n=4: cond(H) =  2.837500e+04, theoretical = 2.837500e+04, ratio = 1.000000\n",
      "n=5: cond(H) =  9.436560e+05, theoretical = 9.436560e+05, ratio = 1.000000\n",
      "n=6: cond(H) =  2.907028e+07, theoretical = 2.907028e+07, ratio = 1.000000\n",
      "n=7: cond(H) =  9.851949e+08, theoretical = 9.851949e+08, ratio = 1.000000\n",
      "n=8: cond(H) =  3.387279e+10, theoretical = 3.387279e+10, ratio = 1.000000\n",
      "n=9: cond(H) =  1.099653e+12, theoretical = 1.099655e+12, ratio = 0.999999\n",
      "n=10: cond(H) =  3.535249e+13, theoretical = 3.535744e+13, ratio = 0.999860\n",
      "n=11: cond(H) =  1.230019e+15, theoretical = 1.233702e+15, ratio = 0.997015\n"
     ]
    }
   ],
   "source": [
    "from scipy.linalg import invhilbert\n",
    "for n in range(1, 12):\n",
    "    H = hilbert(n)\n",
    "    # get condition number from numpy \n",
    "    kappa = np.linalg.cond(H, p=np.inf)\n",
    "    # compute condition number \"by hand\"\n",
    "    H_norm = np.linalg.norm(H, ord=np.inf)\n",
    "    H_inv_norm = np.linalg.norm(invhilbert(n), ord=np.inf)\n",
    "    kappa_alt = H_norm * H_inv_norm\n",
    "    print(f\"n={n}: cond(H) =  {kappa:.6e}, theoretical = {kappa_alt:.6e}, ratio = {kappa / kappa_alt:.6f}\")\n"
   ]
  },
  {
   "cell_type": "markdown",
   "id": "2cc1754f",
   "metadata": {},
   "source": [
    "We solve a linear system with the Hilbert matrix and exact solution x = [1, 1, ..., 1] "
   ]
  },
  {
   "cell_type": "code",
   "execution_count": 32,
   "id": "8c527c11",
   "metadata": {},
   "outputs": [
    {
     "name": "stdout",
     "output_type": "stream",
     "text": [
      "Relative error for n=1: 0.000000e+00\n",
      "Relative error for n=2: 4.227603e-16\n",
      "Relative error for n=3: 6.312995e-16\n",
      "Relative error for n=4: 4.248917e-13\n",
      "Relative error for n=5: 5.273866e-12\n",
      "Relative error for n=6: 3.813937e-10\n",
      "Relative error for n=7: 1.621947e-08\n",
      "Relative error for n=8: 3.257894e-07\n",
      "Relative error for n=9: 5.915094e-06\n",
      "Relative error for n=10: 5.548388e-05\n",
      "Relative error for n=11: 8.955697e-03\n",
      "Relative error for n=12: 2.258989e-01\n",
      "Relative error for n=13: 1.546616e+00\n",
      "Relative error for n=14: 1.181311e+01\n",
      "Relative error for n=15: 3.858501e+00\n",
      "Relative error for n=16: 1.605999e+01\n",
      "Relative error for n=17: 9.638702e+00\n",
      "Relative error for n=18: 1.247445e+01\n",
      "Relative error for n=19: 8.757382e+00\n"
     ]
    }
   ],
   "source": [
    "error_list = []\n",
    "dims = range(1, 20)\n",
    "for n in dims:\n",
    "    H = hilbert(n)\n",
    "    # Compute right-hand side Hx where x = [1, 1, ..., 1]\n",
    "    b = np.array([sum(H[i,:]) for i in range(n)])\n",
    "    # Exact solution is x = [1, 1, ..., 1]\n",
    "    x = np.linalg.solve(H, b)\n",
    "    err = np.linalg.norm(np.abs(x-np.ones(n)))/np.linalg.norm(np.ones(n))\n",
    "    error_list.append(err)\n",
    "    print(f\"Relative error for n={n}: {err:.6e}\")"
   ]
  },
  {
   "cell_type": "markdown",
   "id": "5c90dde6",
   "metadata": {},
   "source": [
    "Plot the condition number and compare with the error. We also show a theoretical estimate for the condition number."
   ]
  },
  {
   "cell_type": "code",
   "execution_count": 33,
   "id": "6e86c37e",
   "metadata": {},
   "outputs": [
    {
     "data": {
      "text/plain": [
       "<matplotlib.collections.LineCollection at 0x137ca8af0>"
      ]
     },
     "execution_count": 33,
     "metadata": {},
     "output_type": "execute_result"
    },
    {
     "data": {
      "image/png": "[encoded data removed]",
      "text/plain": [
       "<Figure size 640x480 with 1 Axes>"
      ]
     },
     "metadata": {},
     "output_type": "display_data"
    }
   ],
   "source": [
    "import matplotlib.pyplot as plt\n",
    "plt.semilogy(dims[1:], error_list[1:], 'o-',\n",
    "             dims[1:], [error_list[1]*(1+np.sqrt(2))**(4*x)/np.sqrt(x) for x in dims[1:]], 'r--')\n",
    "plt.hlines(1, 1, n, colors='g', linestyles='dashed')"
   ]
  },
  {
   "cell_type": "code",
   "execution_count": null,
   "id": "27c56738",
   "metadata": {},
   "outputs": [],
   "source": []
  }
 ],
 "metadata": {
  "kernelspec": {
   "display_name": "Python 3",
   "language": "python",
   "name": "python3"
  },
  "language_info": {
   "codemirror_mode": {
    "name": "ipython",
    "version": 3
   },
   "file_extension": ".py",
   "mimetype": "text/x-python",
   "name": "python",
   "nbconvert_exporter": "python",
   "pygments_lexer": "ipython3",
   "version": "3.9.6"
  }
 },
 "nbformat": 4,
 "nbformat_minor": 5
}
