{
 "cells": [
  {
   "cell_type": "code",
   "execution_count": 1,
   "id": "120f2269-2683-42d4-85ce-8e8e4f8a95e5",
   "metadata": {},
   "outputs": [
    {
     "name": "stdout",
     "output_type": "stream",
     "text": [
      "Using Python Version: 3.12.9\n"
     ]
    }
   ],
   "source": [
    "import sys\n",
    "print(f\"Using Python Version: {(sys.version).split()[0]}\")"
   ]
  },
  {
   "cell_type": "markdown",
   "id": "fa1856f9-3e7d-472d-a84b-182e63e08e80",
   "metadata": {},
   "source": [
    "We'll need some special functions:"
   ]
  },
  {
   "cell_type": "code",
   "execution_count": 2,
   "id": "5ade56d9-b870-4810-9daa-46af7e204c4d",
   "metadata": {
    "scrolled": true
   },
   "outputs": [],
   "source": [
    "from math import cos, sin"
   ]
  },
  {
   "cell_type": "markdown",
   "id": "1df164d8-2b9e-48ea-86f6-924a7cd0534f",
   "metadata": {},
   "source": [
    "Import plotting (note the commented-out command to install, if not already available. Need to restart the kernel after install)"
   ]
  },
  {
   "cell_type": "code",
   "execution_count": null,
   "id": "a6b00146-bb75-4cc2-9499-00f44b0d3be1",
   "metadata": {},
   "outputs": [],
   "source": [
    "#!{sys.executable} -m pip install matplotlib\n",
    "import matplotlib.pyplot as plt\n",
    "from collections.abc import Callable\n",
    "import numpy as np"
   ]
  },
  {
   "cell_type": "markdown",
   "id": "e683621a-f190-4542-b1cd-c9b52dec0fc2",
   "metadata": {},
   "source": [
    "# Fixed-Point Iteration"
   ]
  },
  {
   "cell_type": "code",
   "execution_count": 4,
   "id": "bc38d02d-c0c3-486d-bbc2-f4ad72b48f95",
   "metadata": {},
   "outputs": [],
   "source": [
    "def fixed_point(func: Callable[[float],float], x: float, eps: float = 1.e-08, N_max: int = 100) -> list[float]:\n",
    "    \"\"\"fixed-point iteration for scalar function\n",
    "\n",
    "    Arguments:\n",
    "      func: The function for which the fixed-point is to be found\n",
    "      x: initial guess \n",
    "      eps: convergence tolerance (default 1.0e-08)\n",
    "      N_max: maximum number of iterations (default 100)\n",
    "\n",
    "    Returns:\n",
    "      conv_history: convergence history of the fixed-point iteration\n",
    "    \"\"\"\n",
    "\n",
    "    f_val = func(x)\n",
    "    counter = 0\n",
    "    conv_history = [x]\n",
    "\n",
    "    print(f\"{counter:4d} {x:.6e} {abs(f_val):.6e}\")\n",
    "\n",
    "    delta = f_val -x\n",
    "    \n",
    "    while abs(delta) > eps:\n",
    "\n",
    "        x = f_val\n",
    "        f_val = func(x)\n",
    "        delta = f_val-x\n",
    "        conv_history.append(x)\n",
    "\n",
    "        counter += 1\n",
    "        print(f\"{counter:4d} {x:.6e} {abs(f_val-x):.6e}\")\n",
    "\n",
    "        if counter >= N_max:\n",
    "            raise RuntimeError(f\"Failed to converge after {N_max} iterations\")\n",
    "\n",
    "    return conv_history"
   ]
  },
  {
   "cell_type": "code",
   "execution_count": 5,
   "id": "61de2fd6-ff18-4721-939b-f2d714ba9613",
   "metadata": {},
   "outputs": [
    {
     "name": "stdout",
     "output_type": "stream",
     "text": [
      "   0 1.200000e+00 3.623578e-01\n",
      "   1 3.623578e-01 5.727059e-01\n",
      "   2 9.350636e-01 3.412964e-01\n",
      "   3 5.937672e-01 2.350716e-01\n",
      "   4 8.288389e-01 1.531067e-01\n",
      "   5 6.757321e-01 1.045171e-01\n",
      "   6 7.802492e-01 6.951098e-02\n",
      "   7 7.107382e-01 4.714222e-02\n",
      "   8 7.578805e-01 3.158588e-02\n",
      "   9 7.262946e-01 2.134573e-02\n",
      "  10 7.476403e-01 1.434503e-02\n",
      "  11 7.332953e-01 9.677552e-03\n",
      "  12 7.429728e-01 6.512084e-03\n",
      "  13 7.364608e-01 4.389650e-03\n",
      "  14 7.408504e-01 2.955525e-03\n",
      "  15 7.378949e-01 1.991504e-03\n",
      "  16 7.398864e-01 1.341215e-03\n",
      "  17 7.385452e-01 9.035877e-04\n",
      "  18 7.394488e-01 6.086087e-04\n",
      "  19 7.388401e-01 4.099928e-04\n",
      "  20 7.392501e-01 2.761640e-04\n",
      "  21 7.389740e-01 1.860329e-04\n",
      "  22 7.391600e-01 1.253115e-04\n",
      "  23 7.390347e-01 8.441245e-05\n",
      "  24 7.391191e-01 5.686073e-05\n",
      "  25 7.390622e-01 3.830230e-05\n",
      "  26 7.391005e-01 2.580079e-05\n",
      "  27 7.390747e-01 1.737977e-05\n",
      "  28 7.390921e-01 1.170720e-05\n",
      "  29 7.390804e-01 7.886120e-06\n",
      "  30 7.390883e-01 5.312181e-06\n",
      "  31 7.390830e-01 3.578351e-06\n",
      "  32 7.390866e-01 2.410419e-06\n",
      "  33 7.390842e-01 1.623688e-06\n",
      "  34 7.390858e-01 1.093735e-06\n",
      "  35 7.390847e-01 7.367535e-07\n",
      "  36 7.390854e-01 4.962859e-07\n",
      "  37 7.390849e-01 3.343042e-07\n",
      "  38 7.390853e-01 2.251913e-07\n",
      "  39 7.390850e-01 1.516916e-07\n",
      "  40 7.390852e-01 1.021813e-07\n",
      "  41 7.390851e-01 6.883054e-08\n",
      "  42 7.390852e-01 4.636508e-08\n",
      "  43 7.390851e-01 3.123207e-08\n",
      "  44 7.390851e-01 2.103830e-08\n",
      "  45 7.390851e-01 1.417165e-08\n",
      "  46 7.390851e-01 9.546196e-09\n"
     ]
    }
   ],
   "source": [
    "conv_history_fp = fixed_point(func=lambda x: cos(x), x=1.2)"
   ]
  },
  {
   "cell_type": "code",
   "execution_count": 6,
   "id": "81e656ab",
   "metadata": {},
   "outputs": [
    {
     "name": "stdout",
     "output_type": "stream",
     "text": [
      "   0 1.200000e+00 3.623578e-01\n",
      "   1 3.623578e-01 5.727059e-01\n",
      "   2 9.350636e-01 3.412964e-01\n",
      "   3 5.937672e-01 2.350716e-01\n",
      "   4 8.288389e-01 1.531067e-01\n",
      "   5 6.757321e-01 1.045171e-01\n",
      "   6 7.802492e-01 6.951098e-02\n",
      "   7 7.107382e-01 4.714222e-02\n",
      "   8 7.578805e-01 3.158588e-02\n",
      "   9 7.262946e-01 2.134573e-02\n",
      "  10 7.476403e-01 1.434503e-02\n",
      "  11 7.332953e-01 9.677552e-03\n",
      "  12 7.429728e-01 6.512084e-03\n",
      "  13 7.364608e-01 4.389650e-03\n",
      "  14 7.408504e-01 2.955525e-03\n",
      "  15 7.378949e-01 1.991504e-03\n",
      "  16 7.398864e-01 1.341215e-03\n",
      "  17 7.385452e-01 9.035877e-04\n",
      "  18 7.394488e-01 6.086087e-04\n",
      "  19 7.388401e-01 4.099928e-04\n",
      "  20 7.392501e-01 2.761640e-04\n",
      "  21 7.389740e-01 1.860329e-04\n",
      "  22 7.391600e-01 1.253115e-04\n",
      "  23 7.390347e-01 8.441245e-05\n",
      "  24 7.391191e-01 5.686073e-05\n",
      "  25 7.390622e-01 3.830230e-05\n",
      "  26 7.391005e-01 2.580079e-05\n",
      "  27 7.390747e-01 1.737977e-05\n",
      "  28 7.390921e-01 1.170720e-05\n",
      "  29 7.390804e-01 7.886120e-06\n",
      "  30 7.390883e-01 5.312181e-06\n",
      "  31 7.390830e-01 3.578351e-06\n",
      "  32 7.390866e-01 2.410419e-06\n",
      "  33 7.390842e-01 1.623688e-06\n",
      "  34 7.390858e-01 1.093735e-06\n",
      "  35 7.390847e-01 7.367535e-07\n",
      "  36 7.390854e-01 4.962859e-07\n",
      "  37 7.390849e-01 3.343042e-07\n",
      "  38 7.390853e-01 2.251913e-07\n",
      "  39 7.390850e-01 1.516916e-07\n",
      "  40 7.390852e-01 1.021813e-07\n",
      "  41 7.390851e-01 6.883054e-08\n",
      "  42 7.390852e-01 4.636508e-08\n",
      "  43 7.390851e-01 3.123207e-08\n",
      "  44 7.390851e-01 2.103830e-08\n",
      "  45 7.390851e-01 1.417165e-08\n",
      "  46 7.390851e-01 9.546196e-09\n",
      "  47 7.390851e-01 6.430432e-09\n",
      "  48 7.390851e-01 4.331617e-09\n",
      "  49 7.390851e-01 2.917829e-09\n",
      "  50 7.390851e-01 1.965485e-09\n",
      "  51 7.390851e-01 1.323974e-09\n",
      "  52 7.390851e-01 8.918447e-10\n",
      "  53 7.390851e-01 6.007572e-10\n",
      "  54 7.390851e-01 4.046773e-10\n",
      "  55 7.390851e-01 2.725955e-10\n",
      "  56 7.390851e-01 1.836236e-10\n",
      "  57 7.390851e-01 1.236911e-10\n",
      "  58 7.390851e-01 8.331980e-11\n",
      "  59 7.390851e-01 5.612522e-11\n",
      "  60 7.390851e-01 3.780665e-11\n",
      "  61 7.390851e-01 2.546696e-11\n",
      "  62 7.390851e-01 1.715483e-11\n",
      "  63 7.390851e-01 1.155576e-11\n",
      "  64 7.390851e-01 7.784107e-12\n",
      "  65 7.390851e-01 5.243472e-12\n",
      "  66 7.390851e-01 3.532064e-12\n",
      "  67 7.390851e-01 2.379208e-12\n",
      "  68 7.390851e-01 1.602607e-12\n",
      "  69 7.390851e-01 1.079470e-12\n",
      "  70 7.390851e-01 7.270851e-13\n"
     ]
    }
   ],
   "source": [
    "conv_history_ex = fixed_point(func=lambda x: cos(x), x=1.2, eps = 1.e-12)\n",
    "x_ex = conv_history_ex[-1]"
   ]
  },
  {
   "cell_type": "markdown",
   "id": "4813f86a-03d3-4c31-94c9-f815035b4e81",
   "metadata": {},
   "source": [
    "Postprocess the result. Note: lists don't allow abs(list). Can use list comprehension (or numpy array)"
   ]
  },
  {
   "cell_type": "code",
   "execution_count": 7,
   "id": "c95810d8-d7dd-494a-acd9-919ea4ef6ea9",
   "metadata": {},
   "outputs": [
    {
     "data": {
      "image/png": "[encoded data removed]",
      "text/plain": [
       "<Figure size 640x480 with 1 Axes>"
      ]
     },
     "metadata": {},
     "output_type": "display_data"
    }
   ],
   "source": [
    "plt.semilogy(range(len(conv_history_fp)), [abs(x_ex - x) for x in conv_history_fp], marker='o', label='|x_n - x|')\n",
    "plt.xlabel('N')\n",
    "plt.ylabel('|x_n - x|')\n",
    "plt.grid()"
   ]
  },
  {
   "cell_type": "markdown",
   "id": "d058fbaa-03ba-407d-a1f6-60752fa12adf",
   "metadata": {},
   "source": [
    "# Newton Iteration"
   ]
  },
  {
   "cell_type": "code",
   "execution_count": 8,
   "id": "889aa11a-da89-4e79-aa0e-c84d88932fa9",
   "metadata": {},
   "outputs": [],
   "source": [
    "def newton(\n",
    "    func: Callable[[float],float], fprime: Callable[[float],float], x: float, eps: float = 1.0e-10, N_max = 100\n",
    ") -> list[float]:\n",
    "    \"\"\"\n",
    "    Newton-Raphson method for scalar function\n",
    "\n",
    "    Arguments:\n",
    "        func: The function for which the root is to be found\n",
    "        fprime: The derivative of the function\n",
    "        x: initial guess\n",
    "        eps: convergence tolerance (default 1.0e-10)\n",
    "        N_max: maximum number of iterations (default 100)\n",
    "\n",
    "    Returns:\n",
    "        conv_history: convergence history of the root approximation\n",
    "    \"\"\"\n",
    "\n",
    "    f_val = func(x)\n",
    "    f_der = fprime(x)\n",
    "    counter = 0\n",
    "\n",
    "    print(f\"{counter:4d} {x:.6e} {abs(f_val):.6e}\")\n",
    "\n",
    "    conv_history = [x]\n",
    "\n",
    "    while abs(f_val) > eps:\n",
    "\n",
    "        if abs(f_der) < 1.e-12:\n",
    "            raise ValueError(f\"Detected zero derivative (x = {x:.6e}) f'(x) = {f_der:.6e})\")\n",
    "        \n",
    "        x -= f_val / f_der\n",
    "        f_val = func(x)\n",
    "        f_der = fprime(x)\n",
    "\n",
    "        conv_history.append(x)\n",
    "\n",
    "        counter += 1\n",
    "        print(f\"{counter:4d} {x:.6e} {abs(f_val):.6e}\")\n",
    "        \n",
    "        if counter >= N_max:\n",
    "            raise RuntimeError(f\"Newton iteration failed to converge after {N_max} iterations\")\n",
    "\n",
    "    return conv_history"
   ]
  },
  {
   "cell_type": "markdown",
   "id": "a192421c-8e12-4345-817b-d585c27195e3",
   "metadata": {},
   "source": [
    "We can now call the Newton Routine with a lambda:"
   ]
  },
  {
   "cell_type": "code",
   "execution_count": 9,
   "id": "3544f83e-d74b-449d-b264-733b7826d19e",
   "metadata": {},
   "outputs": [
    {
     "name": "stdout",
     "output_type": "stream",
     "text": [
      "   0 1.200000e+00 8.376422e-01\n",
      "   1 7.664465e-01 4.606671e-02\n",
      "   2 7.392457e-01 2.688083e-04\n",
      "   3 7.390851e-01 9.530950e-09\n",
      "   4 7.390851e-01 0.000000e+00\n"
     ]
    }
   ],
   "source": [
    "conv_history_newton = newton(func=lambda x: x - cos(x), fprime=lambda x: 1 + sin(x), x=1.2)"
   ]
  },
  {
   "cell_type": "code",
   "execution_count": 10,
   "id": "60ff249e-8b8f-45bd-a3c3-2975025c1509",
   "metadata": {},
   "outputs": [
    {
     "data": {
      "image/png": "[encoded data removed]",
      "text/plain": [
       "<Figure size 640x480 with 1 Axes>"
      ]
     },
     "metadata": {},
     "output_type": "display_data"
    }
   ],
   "source": [
    "N_fp = range(len(conv_history_fp))\n",
    "N_newton = range(len(conv_history_newton))\n",
    "\n",
    "plt.semilogy(N_fp,[abs(x-x_ex) for x in conv_history_fp],N_newton, [abs(x-x_ex) for x in conv_history_newton])\n",
    "plt.xlabel('N')\n",
    "plt.ylabel('|err|')\n",
    "plt.grid()"
   ]
  },
  {
   "cell_type": "code",
   "execution_count": null,
   "id": "6d2fede5-604a-4b78-b069-2fb1338ffa61",
   "metadata": {},
   "outputs": [],
   "source": []
  }
 ],
 "metadata": {
  "kernelspec": {
   "display_name": "tomodrgn",
   "language": "python",
   "name": "python3"
  },
  "language_info": {
   "codemirror_mode": {
    "name": "ipython",
    "version": 3
   },
   "file_extension": ".py",
   "mimetype": "text/x-python",
   "name": "python",
   "nbconvert_exporter": "python",
   "pygments_lexer": "ipython3",
   "version": "3.12.9"
  }
 },
 "nbformat": 4,
 "nbformat_minor": 5
}
