{
 "cells": [
  {
   "cell_type": "code",
   "execution_count": 2,
   "id": "120f2269-2683-42d4-85ce-8e8e4f8a95e5",
   "metadata": {},
   "outputs": [
    {
     "name": "stdout",
     "output_type": "stream",
     "text": [
      "Using Python Version: 3.12.9\n"
     ]
    }
   ],
   "source": [
    "import sys\n",
    "print(f\"Using Python Version: {(sys.version).split()[0]}\")"
   ]
  },
  {
   "cell_type": "markdown",
   "id": "fa1856f9-3e7d-472d-a84b-182e63e08e80",
   "metadata": {},
   "source": [
    "We'll need some special functions:"
   ]
  },
  {
   "cell_type": "code",
   "execution_count": 3,
   "id": "5ade56d9-b870-4810-9daa-46af7e204c4d",
   "metadata": {
    "scrolled": true
   },
   "outputs": [],
   "source": [
    "from math import cos, sin"
   ]
  },
  {
   "cell_type": "markdown",
   "id": "1df164d8-2b9e-48ea-86f6-924a7cd0534f",
   "metadata": {},
   "source": [
    "Import plotting (note the commented-out command to install, if not already available. Need to restart the kernel after install)"
   ]
  },
  {
   "cell_type": "code",
   "execution_count": 4,
   "id": "a6b00146-bb75-4cc2-9499-00f44b0d3be1",
   "metadata": {},
   "outputs": [],
   "source": [
    "#!{sys.executable} -m pip install matplotlib\n",
    "import matplotlib.pyplot as plt\n",
    "from collections.abc import Callable\n",
    "import numpy as np"
   ]
  },
  {
   "cell_type": "markdown",
   "id": "e683621a-f190-4542-b1cd-c9b52dec0fc2",
   "metadata": {},
   "source": [
    "# Problem 1"
   ]
  },
  {
   "cell_type": "code",
   "execution_count": 5,
   "id": "62f2d1ab",
   "metadata": {},
   "outputs": [],
   "source": [
    "def bisection(func: Callable[[float],float], ab: list[float], eps: float = 1.e-08, N_max: int = 500):\n",
    "    \"\"\"Performs bisection \n",
    "\n",
    "    Arguments:\n",
    "      func: the function for which is root is to be found\n",
    "      ab: list of the form [a,b], the initial interval in which a root lies\n",
    "      eps: convergence tolerance for the smallest interval size\n",
    "      N_max: maximum iterations\n",
    "    \"\"\"\n",
    "\n",
    "    a = ab[0]\n",
    "    b = ab[1]\n",
    "    temp = []\n",
    "    f_a = func(a)\n",
    "    \n",
    "    if np.sign(f_a)*np.sign(func(b)) > 0:\n",
    "        raise ValueError(\n",
    "            \"Initial Inverval [a,b] must be such that f(a)f(b) < 0\")\n",
    "\n",
    "    for n in range(N_max):\n",
    "        p = a + 0.5*(b-a)\n",
    "        print(f\"{n}, {p}\")\n",
    "        temp.append(p)\n",
    "        f_p = func(p)\n",
    "\n",
    "        if 0.5*(b-a) < eps or abs(f_p) < eps:\n",
    "            return p, temp\n",
    "\n",
    "        if np.sign(f_a)*np.sign(f_p) > 0:\n",
    "            f_a = f_p\n",
    "            a = p\n",
    "        else:\n",
    "            b = p\n",
    "\n",
    "    raise RuntimeError(f\"Reached maximum iteration {N_max = }\")"
   ]
  },
  {
   "cell_type": "code",
   "execution_count": 6,
   "id": "b582e77f",
   "metadata": {},
   "outputs": [
    {
     "name": "stdout",
     "output_type": "stream",
     "text": [
      "0, 0.6\n",
      "1, 0.8999999999999999\n",
      "2, 0.75\n",
      "3, 0.675\n",
      "4, 0.7125\n",
      "5, 0.73125\n",
      "6, 0.740625\n",
      "7, 0.7359374999999999\n",
      "8, 0.73828125\n",
      "9, 0.739453125\n",
      "10, 0.7388671875\n",
      "11, 0.7391601562500001\n",
      "12, 0.739013671875\n",
      "13, 0.7390869140625\n",
      "14, 0.73905029296875\n",
      "15, 0.7390686035156251\n",
      "16, 0.7390777587890626\n",
      "17, 0.7390823364257812\n",
      "18, 0.7390846252441406\n",
      "19, 0.7390857696533204\n",
      "20, 0.7390851974487305\n",
      "21, 0.7390849113464355\n",
      "22, 0.739085054397583\n",
      "23, 0.7390851259231568\n",
      "24, 0.7390851616859436\n",
      "25, 0.7390851438045503\n",
      "26, 0.7390851348638535\n"
     ]
    }
   ],
   "source": [
    "root, temp = bisection(lambda x: x - np.cos(x), [0,1.2])"
   ]
  },
  {
   "cell_type": "code",
   "execution_count": 7,
   "id": "7063d6e2",
   "metadata": {},
   "outputs": [
    {
     "name": "stdout",
     "output_type": "stream",
     "text": [
      "Observed steps: 27\n",
      "Theoretical minimum steps: 27\n",
      "Ratio (observed/theoretical): 1.00\n"
     ]
    }
   ],
   "source": [
    "# Compare observed vs theoretical number of bisection steps\n",
    "import math\n",
    "\n",
    "a, b = 0, 1.2  # initial interval\n",
    "n_observed = len(temp)\n",
    "\n",
    "tol = 1.e-8\n",
    "n_theoretical = math.ceil(math.log2((b - a) / tol))\n",
    "\n",
    "print(f\"Observed steps: {n_observed}\")\n",
    "print(f\"Theoretical minimum steps: {n_theoretical}\")\n",
    "print(f\"Ratio (observed/theoretical): {n_observed/n_theoretical:.2f}\")"
   ]
  },
  {
   "cell_type": "code",
   "execution_count": 17,
   "id": "74cf1858",
   "metadata": {},
   "outputs": [
    {
     "data": {
      "image/png": "[encoded data removed]",
      "text/plain": [
       "<Figure size 640x480 with 1 Axes>"
      ]
     },
     "metadata": {},
     "output_type": "display_data"
    }
   ],
   "source": [
    "plt.semilogy(range(len(temp)), [abs(x - np.cos(x)) for x in temp], marker='o', label='|x - cosx|')\n",
    "plt.xlabel('N')\n",
    "plt.ylabel('|x - cosx|')\n",
    "plt.grid()"
   ]
  },
  {
   "cell_type": "markdown",
   "id": "00c3fd80",
   "metadata": {},
   "source": [
    "## Problem 2 ##\n",
    "\n",
    "On the interval $[0, 1.2]$:\n",
    "- $\\cos(x)$ is a strictly decreasing function (since $\\sin(x) > 0$ for $x \\in (0, 1.2)$).\n",
    "- The function $g(x) = \\cos(x)$ maps $[0, 1.2]$ into itself, because $\\cos(0) = 1$ and $\\cos(1.2) \\approx 0.362$ (both within $[0, 1.2]$).\n",
    "- The fixed-point equation $x = \\cos(x)$ can be rewritten as $h(x) = x - \\cos(x) = 0$.\n",
    "- $h(x)$ is strictly increasing on $[0, 1.2]$ (since $h'(x) = 1 + \\sin(x) > 1$).\n",
    "- $h(0) = 0 - 1 = -1 < 0$, $h(1.2) \\approx 1.2 - 0.362 = 0.838 > 0$.\n",
    "\n",
    "By the Intermediate Value Theorem, $h(x)$ crosses zero exactly once in $[0, 1.2]$.\n",
    "\n",
    "Therefore, $f(x) = \\cos(x)$ has a unique fixed-point in $[0, 1.2]$. QED"
   ]
  },
  {
   "cell_type": "code",
   "execution_count": 9,
   "id": "bc38d02d-c0c3-486d-bbc2-f4ad72b48f95",
   "metadata": {},
   "outputs": [],
   "source": [
    "def fixed_point(func: Callable[[float],float], x: float, eps: float = 1.e-08, N_max: int = 100) -> list[float]:\n",
    "    \"\"\"fixed-point iteration for scalar function\n",
    "\n",
    "    Arguments:\n",
    "      func: The function for which the fixed-point is to be found\n",
    "      x: initial guess \n",
    "      eps: convergence tolerance (default 1.0e-08)\n",
    "      N_max: maximum number of iterations (default 100)\n",
    "\n",
    "    Returns:\n",
    "      conv_history: convergence history of the fixed-point iteration\n",
    "    \"\"\"\n",
    "\n",
    "    f_val = func(x)\n",
    "    counter = 0\n",
    "    conv_history = [x]\n",
    "\n",
    "    print(f\"{counter:4d} {x:.6e} {abs(f_val):.6e}\")\n",
    "\n",
    "    delta = f_val -x\n",
    "    \n",
    "    while abs(delta) > eps:\n",
    "\n",
    "        x = f_val\n",
    "        f_val = func(x)\n",
    "        delta = f_val-x\n",
    "        conv_history.append(x)\n",
    "\n",
    "        counter += 1\n",
    "        print(f\"{counter:4d} {x:.6e} {abs(f_val-x):.6e}\")\n",
    "\n",
    "        if counter >= N_max:\n",
    "            raise RuntimeError(f\"Failed to converge after {N_max} iterations\")\n",
    "\n",
    "    return conv_history"
   ]
  },
  {
   "cell_type": "code",
   "execution_count": 10,
   "id": "61de2fd6-ff18-4721-939b-f2d714ba9613",
   "metadata": {},
   "outputs": [
    {
     "name": "stdout",
     "output_type": "stream",
     "text": [
      "   0 1.200000e+00 3.623578e-01\n",
      "   1 3.623578e-01 5.727059e-01\n",
      "   2 9.350636e-01 3.412964e-01\n",
      "   3 5.937672e-01 2.350716e-01\n",
      "   4 8.288389e-01 1.531067e-01\n",
      "   5 6.757321e-01 1.045171e-01\n",
      "   6 7.802492e-01 6.951098e-02\n",
      "   7 7.107382e-01 4.714222e-02\n",
      "   8 7.578805e-01 3.158588e-02\n",
      "   9 7.262946e-01 2.134573e-02\n",
      "  10 7.476403e-01 1.434503e-02\n",
      "  11 7.332953e-01 9.677552e-03\n",
      "  12 7.429728e-01 6.512084e-03\n",
      "  13 7.364608e-01 4.389650e-03\n",
      "  14 7.408504e-01 2.955525e-03\n",
      "  15 7.378949e-01 1.991504e-03\n",
      "  16 7.398864e-01 1.341215e-03\n",
      "  17 7.385452e-01 9.035877e-04\n",
      "  18 7.394488e-01 6.086087e-04\n",
      "  19 7.388401e-01 4.099928e-04\n",
      "  20 7.392501e-01 2.761640e-04\n",
      "  21 7.389740e-01 1.860329e-04\n",
      "  22 7.391600e-01 1.253115e-04\n",
      "  23 7.390347e-01 8.441245e-05\n",
      "  24 7.391191e-01 5.686073e-05\n",
      "  25 7.390622e-01 3.830230e-05\n",
      "  26 7.391005e-01 2.580079e-05\n",
      "  27 7.390747e-01 1.737977e-05\n",
      "  28 7.390921e-01 1.170720e-05\n",
      "  29 7.390804e-01 7.886120e-06\n",
      "  30 7.390883e-01 5.312181e-06\n",
      "  31 7.390830e-01 3.578351e-06\n",
      "  32 7.390866e-01 2.410419e-06\n",
      "  33 7.390842e-01 1.623688e-06\n",
      "  34 7.390858e-01 1.093735e-06\n",
      "  35 7.390847e-01 7.367535e-07\n",
      "  36 7.390854e-01 4.962859e-07\n",
      "  37 7.390849e-01 3.343042e-07\n",
      "  38 7.390853e-01 2.251913e-07\n",
      "  39 7.390850e-01 1.516916e-07\n",
      "  40 7.390852e-01 1.021813e-07\n",
      "  41 7.390851e-01 6.883054e-08\n",
      "  42 7.390852e-01 4.636508e-08\n",
      "  43 7.390851e-01 3.123207e-08\n",
      "  44 7.390851e-01 2.103830e-08\n",
      "  45 7.390851e-01 1.417165e-08\n",
      "  46 7.390851e-01 9.546196e-09\n"
     ]
    }
   ],
   "source": [
    "conv_history_fp = fixed_point(func=lambda x: cos(x), x=1.2)"
   ]
  },
  {
   "cell_type": "code",
   "execution_count": 11,
   "id": "81e656ab",
   "metadata": {},
   "outputs": [
    {
     "name": "stdout",
     "output_type": "stream",
     "text": [
      "   0 1.200000e+00 3.623578e-01\n",
      "   1 3.623578e-01 5.727059e-01\n",
      "   2 9.350636e-01 3.412964e-01\n",
      "   3 5.937672e-01 2.350716e-01\n",
      "   4 8.288389e-01 1.531067e-01\n",
      "   5 6.757321e-01 1.045171e-01\n",
      "   6 7.802492e-01 6.951098e-02\n",
      "   7 7.107382e-01 4.714222e-02\n",
      "   8 7.578805e-01 3.158588e-02\n",
      "   9 7.262946e-01 2.134573e-02\n",
      "  10 7.476403e-01 1.434503e-02\n",
      "  11 7.332953e-01 9.677552e-03\n",
      "  12 7.429728e-01 6.512084e-03\n",
      "  13 7.364608e-01 4.389650e-03\n",
      "  14 7.408504e-01 2.955525e-03\n",
      "  15 7.378949e-01 1.991504e-03\n",
      "  16 7.398864e-01 1.341215e-03\n",
      "  17 7.385452e-01 9.035877e-04\n",
      "  18 7.394488e-01 6.086087e-04\n",
      "  19 7.388401e-01 4.099928e-04\n",
      "  20 7.392501e-01 2.761640e-04\n",
      "  21 7.389740e-01 1.860329e-04\n",
      "  22 7.391600e-01 1.253115e-04\n",
      "  23 7.390347e-01 8.441245e-05\n",
      "  24 7.391191e-01 5.686073e-05\n",
      "  25 7.390622e-01 3.830230e-05\n",
      "  26 7.391005e-01 2.580079e-05\n",
      "  27 7.390747e-01 1.737977e-05\n",
      "  28 7.390921e-01 1.170720e-05\n",
      "  29 7.390804e-01 7.886120e-06\n",
      "  30 7.390883e-01 5.312181e-06\n",
      "  31 7.390830e-01 3.578351e-06\n",
      "  32 7.390866e-01 2.410419e-06\n",
      "  33 7.390842e-01 1.623688e-06\n",
      "  34 7.390858e-01 1.093735e-06\n",
      "  35 7.390847e-01 7.367535e-07\n",
      "  36 7.390854e-01 4.962859e-07\n",
      "  37 7.390849e-01 3.343042e-07\n",
      "  38 7.390853e-01 2.251913e-07\n",
      "  39 7.390850e-01 1.516916e-07\n",
      "  40 7.390852e-01 1.021813e-07\n",
      "  41 7.390851e-01 6.883054e-08\n",
      "  42 7.390852e-01 4.636508e-08\n",
      "  43 7.390851e-01 3.123207e-08\n",
      "  44 7.390851e-01 2.103830e-08\n",
      "  45 7.390851e-01 1.417165e-08\n",
      "  46 7.390851e-01 9.546196e-09\n",
      "  47 7.390851e-01 6.430432e-09\n",
      "  48 7.390851e-01 4.331617e-09\n",
      "  49 7.390851e-01 2.917829e-09\n",
      "  50 7.390851e-01 1.965485e-09\n",
      "  51 7.390851e-01 1.323974e-09\n",
      "  52 7.390851e-01 8.918447e-10\n",
      "  53 7.390851e-01 6.007572e-10\n",
      "  54 7.390851e-01 4.046773e-10\n",
      "  55 7.390851e-01 2.725955e-10\n",
      "  56 7.390851e-01 1.836236e-10\n",
      "  57 7.390851e-01 1.236911e-10\n",
      "  58 7.390851e-01 8.331980e-11\n",
      "  59 7.390851e-01 5.612522e-11\n",
      "  60 7.390851e-01 3.780665e-11\n",
      "  61 7.390851e-01 2.546696e-11\n",
      "  62 7.390851e-01 1.715483e-11\n",
      "  63 7.390851e-01 1.155576e-11\n",
      "  64 7.390851e-01 7.784107e-12\n",
      "  65 7.390851e-01 5.243472e-12\n",
      "  66 7.390851e-01 3.532064e-12\n",
      "  67 7.390851e-01 2.379208e-12\n",
      "  68 7.390851e-01 1.602607e-12\n",
      "  69 7.390851e-01 1.079470e-12\n",
      "  70 7.390851e-01 7.270851e-13\n"
     ]
    }
   ],
   "source": [
    "conv_history_ex = fixed_point(func=lambda x: cos(x), x=1.2, eps = 1.e-12)\n",
    "x_ex = conv_history_ex[-1]"
   ]
  },
  {
   "cell_type": "markdown",
   "id": "4813f86a-03d3-4c31-94c9-f815035b4e81",
   "metadata": {},
   "source": [
    "Postprocess the result. Note: lists don't allow abs(list). Can use list comprehension (or numpy array)"
   ]
  },
  {
   "cell_type": "code",
   "execution_count": 12,
   "id": "c95810d8-d7dd-494a-acd9-919ea4ef6ea9",
   "metadata": {},
   "outputs": [
    {
     "name": "stdout",
     "output_type": "stream",
     "text": [
      "[0.46091486678440485, 0.3767273787389215, 0.19597851375444342, 0.1453179183376747, 0.08975372300926143, 0.06335298387103416, 0.041164090550759425, 0.028346891225459414, 0.018795325104196126, 0.0127905539973725, 0.008555180409190788, 0.005789849204296038, 0.003887702378266744, 0.002624381835983791, 0.0017652679652645498, 0.0011902566768119405, 0.0008012474903351663, 0.0005399671362253944, 0.00036362059442895944, 0.00024498806268991036, 0.00016500472402547484, 0.00011115922857085625, 7.48736264325478e-05, 5.043784779135141e-05, 3.397460014931131e-05, 2.2886126623156144e-05, 1.5416175909277463e-05, 1.0384610088176593e-05, 6.995157694977827e-06, 4.712041179022464e-06, 3.174078687995241e-06, 2.138102035975642e-06, 1.4402488346387798e-06, 9.701704336562145e-07, 6.535173995292354e-07, 4.4021806655525353e-07, 2.9653538635709964e-07, 1.9975056297916183e-07, 1.345536402297398e-07, 9.06376844689305e-08, 6.105390437660674e-08, 4.112737284067691e-08, 2.7703165317305434e-08, 1.8661912792872215e-08, 1.2570161689318127e-08, 8.468139300887856e-09, 5.703513328292331e-09]\n"
     ]
    },
    {
     "data": {
      "image/png": "[encoded data removed]",
      "text/plain": [
       "<Figure size 800x500 with 1 Axes>"
      ]
     },
     "metadata": {},
     "output_type": "display_data"
    }
   ],
   "source": [
    "# Plot convergence of fixed-point method and compare\n",
    "n_fp = len(conv_history_fp)\n",
    "errors_fp = [abs(x_ex - x) for x in conv_history_fp]\n",
    "print(errors_fp)\n",
    "\n",
    "# Theoretical estimate for fixed-point iteration:\n",
    "# for mapping with Lipschitz constant L < 1, error <= L^n * |x1 - x0|\n",
    "# for cos(x), L = max|sin(x)| on [0, 1.2]\n",
    "L = max([abs(sin(x)) for x in conv_history_fp])\n",
    "initial_error = abs(conv_history_fp[1] - conv_history_fp[0]) if n_fp > 1 else 0\n",
    "estimate_fp = [L**n * initial_error for n in range(n_fp)]\n",
    "\n",
    "plt.figure(figsize=(8,5))\n",
    "plt.semilogy(range(n_fp), errors_fp, marker='o', label=r'$|x_n - x^*|$ (actual error)')\n",
    "plt.semilogy(range(n_fp), estimate_fp, '--', label=r'$L^n |x_1 - x_0|$ (theoretical)')\n",
    "plt.xlabel('Iteration n')\n",
    "plt.ylabel('Error')\n",
    "plt.legend()\n",
    "plt.grid(True)"
   ]
  },
  {
   "cell_type": "markdown",
   "id": "6d1ba690",
   "metadata": {},
   "source": [
    "### Fixed-Point Convergence Observation\n",
    "\n",
    "The plot above shows the actual error $|x_n - x^*|$ for the fixed-point iteration, compared to the theoretical estimate $L^n |x_1 - x_0|$ where $L$ is the maximum contraction constant (here, $L = \\max|\\sin(x)|$ on the interval).\n",
    "\n",
    "**Observation:**\n",
    "- The actual error decreases linearly, the theoretical estimate also decreases linearly. "
   ]
  },
  {
   "cell_type": "markdown",
   "id": "d058fbaa-03ba-407d-a1f6-60752fa12adf",
   "metadata": {},
   "source": [
    "# Problem 3: Secant Method vs Newton Method"
   ]
  },
  {
   "cell_type": "code",
   "execution_count": 13,
   "id": "889aa11a-da89-4e79-aa0e-c84d88932fa9",
   "metadata": {},
   "outputs": [],
   "source": [
    "def secant(func: Callable[[float],float], x0: float, x1: float, eps: float = 1.0e-10, N_max: int = 100, x_star: float = None) -> tuple[list[float], list[float]]:\n",
    "\n",
    "    f_x0 = func(x0)\n",
    "    f_x1 = func(x1)\n",
    "    conv_history = [x0, x1]\n",
    "    error_history = []\n",
    "    if x_star is not None:\n",
    "        error_history.append(abs(x0 - x_star))\n",
    "        error_history.append(abs(x1 - x_star))\n",
    "    counter = 1\n",
    "    print(f\"{0:4d} {x0:.6e} {abs(f_x0):.6e}\")\n",
    "    print(f\"{1:4d} {x1:.6e} {abs(f_x1):.6e}\")\n",
    "    while abs(f_x1) > eps and counter < N_max:\n",
    "        if abs(f_x1 - f_x0) < 1.e-12:\n",
    "            raise ValueError(f\"Secant denominator too small at iteration {counter}\")\n",
    "        x2 = x1 - f_x1 * (x1 - x0) / (f_x1 - f_x0)\n",
    "        f_x2 = func(x2)\n",
    "        conv_history.append(x2)\n",
    "        if x_star is not None:\n",
    "            error_history.append(abs(x2 - x_star))\n",
    "        counter += 1\n",
    "        print(f\"{counter:4d} {x2:.6e} {abs(f_x2):.6e}\")\n",
    "        x0, x1 = x1, x2\n",
    "        f_x0, f_x1 = f_x1, f_x2\n",
    "    if abs(f_x1) > eps:\n",
    "        raise RuntimeError(f\"Secant method failed to converge after {N_max} iterations\")\n",
    "    return conv_history, error_history\n",
    "\n",
    "############################################################3\n",
    "###########################################################\n",
    "\n",
    "\n",
    "def newton(func: Callable[[float],float], fprime: Callable[[float],float], x: float, eps: float = 1.0e-10, N_max = 100, x_star: float = None) -> tuple[list[float], list[float]]:\n",
    "    \"\"\"\n",
    "    Newton-Raphson method for scalar function\n",
    "    Arguments:\n",
    "        func: The function for which the root is to be found\n",
    "        fprime: The derivative of the function\n",
    "        x: initial guess\n",
    "        eps: convergence tolerance (default 1.0e-10)\n",
    "        N_max: maximum number of iterations (default 100)\n",
    "        x_star: true root (for error calculation, optional)\n",
    "    Returns:\n",
    "        conv_history: convergence history of the root approximation\n",
    "        error_history: error at each step (if x_star provided)\n",
    "    \"\"\"\n",
    "    f_val = func(x)\n",
    "    f_der = fprime(x)\n",
    "    counter = 0\n",
    "    conv_history = [x]\n",
    "    error_history = []\n",
    "    if x_star is not None:\n",
    "        error_history.append(abs(x - x_star))\n",
    "    print(f\"{counter:4d} {x:.6e} {abs(f_val):.6e}\")\n",
    "    while abs(f_val) > eps:\n",
    "        if abs(f_der) < 1.e-12:\n",
    "            raise ValueError(f\"Detected zero derivative (x = {x:.6e}) f'(x) = {f_der:.6e})\")\n",
    "        x -= f_val / f_der\n",
    "        f_val = func(x)\n",
    "        f_der = fprime(x)\n",
    "        conv_history.append(x)\n",
    "        if x_star is not None:\n",
    "            error_history.append(abs(x - x_star))\n",
    "        counter += 1\n",
    "        print(f\"{counter:4d} {x:.6e} {abs(f_val):.6e}\")\n",
    "        if counter >= N_max:\n",
    "            raise RuntimeError(f\"Newton iteration failed to converge after {N_max} iterations\")\n",
    "    return conv_history, error_history"
   ]
  },
  {
   "cell_type": "markdown",
   "id": "a192421c-8e12-4345-817b-d585c27195e3",
   "metadata": {},
   "source": [
    "We can now call the Secant Method with a lambda:"
   ]
  },
  {
   "cell_type": "code",
   "execution_count": 14,
   "id": "3544f83e-d74b-449d-b264-733b7826d19e",
   "metadata": {},
   "outputs": [
    {
     "name": "stdout",
     "output_type": "stream",
     "text": [
      "SECANT ITERATION\n",
      "   0 1.200000e+00 8.376422e-01\n",
      "   1 1.000000e+00 4.596977e-01\n",
      "   2 7.567380e-01 2.965863e-02\n",
      "   3 7.399609e-01 1.465986e-03\n",
      "   4 7.390885e-01 5.657759e-06\n",
      "   5 7.390851e-01 1.093565e-09\n",
      "   6 7.390851e-01 7.771561e-16\n",
      "\n",
      "NEWTON ITERATION\n",
      "   0 1.200000e+00 8.376422e-01\n",
      "   1 7.664465e-01 4.606671e-02\n",
      "   2 7.392457e-01 2.688083e-04\n",
      "   3 7.390851e-01 9.530950e-09\n",
      "   4 7.390851e-01 0.000000e+00\n"
     ]
    }
   ],
   "source": [
    "print(\"SECANT ITERATION\")\n",
    "conv_history_secant, errors_secant = secant(func=lambda x: x - cos(x), x0=1.2, x1=1.0, x_star=x_ex)\n",
    "n_secant = len(conv_history_secant)\n",
    "\n",
    "print(\"\\nNEWTON ITERATION\")\n",
    "conv_history_newton, errors_newton = newton(func=lambda x: x - cos(x), fprime=lambda x: 1 + sin(x), x=1.2, x_star=x_ex)\n",
    "n_newton = len(conv_history_newton)"
   ]
  },
  {
   "cell_type": "code",
   "execution_count": 15,
   "id": "60ff249e-8b8f-45bd-a3c3-2975025c1509",
   "metadata": {},
   "outputs": [
    {
     "data": {
      "image/png": "[encoded data removed]",
      "text/plain": [
       "<Figure size 640x480 with 1 Axes>"
      ]
     },
     "metadata": {},
     "output_type": "display_data"
    }
   ],
   "source": [
    "# N_fp = range(len(conv_history_fp))\n",
    "N_secant = range(len(errors_secant))\n",
    "N_newton = range(len(errors_newton))\n",
    "\n",
    "# plt.semilogy(N_fp, errors_fp, label='Fixed-point error')\n",
    "plt.semilogy(N_secant, errors_secant, label='Secant error')\n",
    "plt.semilogy(N_newton, errors_newton, label='Newton error')\n",
    "plt.xlabel('N')\n",
    "plt.ylabel('|err|')\n",
    "plt.legend()\n",
    "plt.grid()"
   ]
  },
  {
   "cell_type": "markdown",
   "id": "c02e7fa5",
   "metadata": {},
   "source": []
  },
  {
   "cell_type": "code",
   "execution_count": null,
   "id": "6d2fede5-604a-4b78-b069-2fb1338ffa61",
   "metadata": {},
   "outputs": [],
   "source": []
  }
 ],
 "metadata": {
  "kernelspec": {
   "display_name": "tomodrgn",
   "language": "python",
   "name": "python3"
  },
  "language_info": {
   "codemirror_mode": {
    "name": "ipython",
    "version": 3
   },
   "file_extension": ".py",
   "mimetype": "text/x-python",
   "name": "python",
   "nbconvert_exporter": "python",
   "pygments_lexer": "ipython3",
   "version": "3.12.9"
  }
 },
 "nbformat": 4,
 "nbformat_minor": 5
}
