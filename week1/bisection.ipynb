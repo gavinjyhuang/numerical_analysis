{
 "cells": [
  {
   "cell_type": "code",
   "execution_count": 1,
   "metadata": {},
   "outputs": [
    {
     "name": "stdout",
     "output_type": "stream",
     "text": [
      "Python Version: 3.12.9\n"
     ]
    }
   ],
   "source": [
    "import sys\n",
    "print(f\"Python Version: {sys.version.split()[0]}\")"
   ]
  },
  {
   "cell_type": "code",
   "execution_count": 2,
   "metadata": {},
   "outputs": [],
   "source": [
    "from collections.abc import Callable\n",
    "import numpy as np"
   ]
  },
  {
   "cell_type": "markdown",
   "metadata": {},
   "source": [
    "Define a function for bisection"
   ]
  },
  {
   "cell_type": "code",
   "execution_count": 4,
   "metadata": {},
   "outputs": [],
   "source": [
    "def bisection(func: Callable[[float],float], ab: list[float], eps: float = 1.e-08, N_max: int = 500) -> float:\n",
    "    \"\"\"Performs bisection \n",
    "\n",
    "    Arguments:\n",
    "      func: the function for which is root is to be found\n",
    "      ab: list of the form [a,b], the initial interval in which a root lies\n",
    "      eps: convergence tolerance for the smallest interval size\n",
    "      N_max: maximum iterations\n",
    "    \"\"\"\n",
    "\n",
    "    a = ab[0]\n",
    "    b = ab[1]\n",
    "    f_a = func(a)\n",
    "    \n",
    "    if np.sign(f_a)*np.sign(func(b)) > 0:\n",
    "        raise ValueError(\n",
    "            \"Initial Inverval [a,b] must be such that f(a)f(b) < 0\")\n",
    "\n",
    "    for n in range(N_max):\n",
    "        p = a + 0.5*(b-a)\n",
    "        print(f\"{n}, {p}\")\n",
    "        f_p = func(p)\n",
    "\n",
    "        if 0.5*(b-a) < eps or abs(f_p) < eps:\n",
    "            return p\n",
    "\n",
    "        if np.sign(f_a)*np.sign(f_p) > 0:\n",
    "            f_a = f_p\n",
    "            a = p\n",
    "        else:\n",
    "            b = p\n",
    "\n",
    "    raise RuntimeError(f\"Reached maximum iteration {N_max = }\")\n",
    "    \n",
    "            "
   ]
  },
  {
   "cell_type": "code",
   "execution_count": 6,
   "metadata": {},
   "outputs": [
    {
     "name": "stdout",
     "output_type": "stream",
     "text": [
      "0, 0.57\n",
      "1, 0.855\n",
      "2, 0.9974999999999999\n",
      "3, 1.0687499999999999\n",
      "4, 1.0331249999999998\n",
      "5, 1.0153124999999998\n",
      "6, 1.00640625\n",
      "7, 1.001953125\n",
      "8, 0.9997265625\n",
      "9, 1.0008398437500001\n",
      "10, 1.000283203125\n",
      "11, 1.0000048828125\n",
      "12, 0.9998657226562501\n",
      "13, 0.9999353027343751\n",
      "14, 0.9999700927734376\n",
      "15, 0.9999874877929689\n",
      "16, 0.9999961853027345\n",
      "17, 1.0000005340576172\n",
      "18, 0.9999983596801758\n",
      "19, 0.9999994468688965\n",
      "20, 0.9999999904632568\n"
     ]
    }
   ],
   "source": [
    "p = bisection(lambda x: x-1, [0,1.14])"
   ]
  },
  {
   "cell_type": "code",
   "execution_count": null,
   "metadata": {},
   "outputs": [],
   "source": []
  }
 ],
 "metadata": {
  "kernelspec": {
   "display_name": "tomodrgn",
   "language": "python",
   "name": "python3"
  },
  "language_info": {
   "codemirror_mode": {
    "name": "ipython",
    "version": 3
   },
   "file_extension": ".py",
   "mimetype": "text/x-python",
   "name": "python",
   "nbconvert_exporter": "python",
   "pygments_lexer": "ipython3",
   "version": "3.12.9"
  }
 },
 "nbformat": 4,
 "nbformat_minor": 4
}
