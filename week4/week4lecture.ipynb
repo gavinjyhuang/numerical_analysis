{
 "cells": [
  {
   "cell_type": "code",
   "execution_count": 1,
   "id": "7373764b-723d-49a6-8fdc-0f44c919829b",
   "metadata": {},
   "outputs": [
    {
     "name": "stdout",
     "output_type": "stream",
     "text": [
      "Python Version 3.12.9\n"
     ]
    }
   ],
   "source": [
    "import sys\n",
    "import numpy as np\n",
    "import matplotlib.pyplot as plt\n",
    "print(f\"Python Version {sys.version.split()[0]}\")"
   ]
  },
  {
   "cell_type": "markdown",
   "id": "157b8fef",
   "metadata": {},
   "source": [
    "## Question 1:"
   ]
  },
  {
   "cell_type": "code",
   "execution_count": null,
   "id": "0cbb86ba",
   "metadata": {},
   "outputs": [
    {
     "name": "stdout",
     "output_type": "stream",
     "text": [
      "x = 0.3, Neville interp = 0.008100000000000003, true = 0.0081, abs error = 3.469446951953614e-18\n",
      "x = 0.7, Neville interp = 0.24009999999999992, true = 0.24009999999999995, abs error = 2.7755575615628914e-17\n",
      "x = 7.1, Neville interp = 2541.168099999998, true = 2541.1680999999994, abs error = 1.3642420526593924e-12\n"
     ]
    }
   ],
   "source": [
    "def neville(x_points, y_points, x_eval):\n",
    "    n = len(x_points)\n",
    "    Q = np.zeros((n, n))\n",
    "    Q[:, 0] = y_points\n",
    "    for j in range(1, n):\n",
    "        for i in range(n-j):\n",
    "            Q[i, j] = ((x_eval - x_points[i+j])*Q[i, j-1] + (x_points[i] - x_eval)*Q[i+1, j-1])/(x_points[i]-x_points[i+j])\n",
    "    return Q[0, n-1]\n",
    "\n",
    "#test 5 equispaced points in [0,2]\n",
    "x_pts = np.linspace(0, 2, 5)\n",
    "y_pts = x_pts**4\n",
    "\n",
    "# interpolate, compare at x=0.3, 0.7, 7.1\n",
    "for x in [0.3, 0.7, 7.1]:\n",
    "    interp = neville(x_pts, y_pts, x)\n",
    "    true_val = x**4\n",
    "    abs_err = abs(interp - true_val)\n",
    "    print(f\"x = {x}, Neville interp = {interp}, true = {true_val}, abs error = {abs_err}\")\n"
   ]
  },
  {
   "cell_type": "markdown",
   "id": "954255a1",
   "metadata": {},
   "source": [
    "## Question 2"
   ]
  },
  {
   "cell_type": "code",
   "execution_count": null,
   "id": "c13dfdee",
   "metadata": {},
   "outputs": [
    {
     "name": "stdout",
     "output_type": "stream",
     "text": [
      "Divided differences coefficients: [0. 1. 1.]\n",
      "Exact Newton coefficients for f(x)=x^2: [0, 1, 1]\n",
      "x = 0.3, Newton interp = 0.09000000000000001, true = 0.09, abs error = 1.3877787807814457e-17\n",
      "x = 0.7, Newton interp = 0.48999999999999994, true = 0.48999999999999994, abs error = 0.0\n",
      "x = 7.1, Newton interp = 50.41, true = 50.41, abs error = 0.0\n"
     ]
    }
   ],
   "source": [
    "# divided differences\n",
    "\n",
    "def divided_differences(x_points, y_points):\n",
    "    n = len(x_points)\n",
    "    coef = np.copy(y_points)\n",
    "    for j in range(1, n):\n",
    "        coef[j:n] = (coef[j:n] - coef[j-1:n-1]) / (x_points[j:n] - x_points[0:n-j])\n",
    "    return coef\n",
    "\n",
    "def newton_poly_eval(x_points, coef, x):\n",
    "    n = len(coef)\n",
    "    result = coef[-1]\n",
    "    for k in range(n-2, -1, -1):\n",
    "        result = result * (x - x_points[k]) + coef[k]\n",
    "    return result\n",
    "\n",
    "# test 3 equispaced points in [0,2]\n",
    "x_pts = np.linspace(0, 2, 3)\n",
    "y_pts = x_pts**2\n",
    "\n",
    "coef = divided_differences(x_pts, y_pts)\n",
    "print(\"Divided differences coefficients:\", coef)\n",
    "\n",
    "# compare to exact Newton coefficients\n",
    "print(\"Exact Newton coefficients for f(x)=x^2: [0, 1, 1]\")\n",
    "\n",
    "# evaluate at a few points\n",
    "for x in [0.3, 0.7, 7.1]:\n",
    "    interp = newton_poly_eval(x_pts, coef, x)\n",
    "    true_val = x**2\n",
    "    print(f\"x = {x}, Newton interp = {interp}, true = {true_val}, abs error = {abs(interp-true_val)}\")"
   ]
  },
  {
   "cell_type": "code",
   "execution_count": null,
   "id": "89969759",
   "metadata": {},
   "outputs": [],
   "source": []
  }
 ],
 "metadata": {
  "kernelspec": {
   "display_name": "tomodrgn",
   "language": "python",
   "name": "python3"
  },
  "language_info": {
   "codemirror_mode": {
    "name": "ipython",
    "version": 3
   },
   "file_extension": ".py",
   "mimetype": "text/x-python",
   "name": "python",
   "nbconvert_exporter": "python",
   "pygments_lexer": "ipython3",
   "version": "3.12.9"
  }
 },
 "nbformat": 4,
 "nbformat_minor": 5
}
